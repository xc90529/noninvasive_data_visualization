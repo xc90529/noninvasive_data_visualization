{
  "cells": [
    {
      "cell_type": "code",
      "execution_count": 1,
      "metadata": {},
      "outputs": [
        {
          "name": "stdout",
          "output_type": "stream",
          "text": [
            "Defaulting to user installation because normal site-packages is not writeable\n",
            "Requirement already satisfied: tensorflow in /Users/apple/Library/Python/3.9/lib/python/site-packages (2.16.1)\n",
            "Requirement already satisfied: absl-py>=1.0.0 in /Users/apple/Library/Python/3.9/lib/python/site-packages (from tensorflow) (2.1.0)\n",
            "Requirement already satisfied: astunparse>=1.6.0 in /Users/apple/Library/Python/3.9/lib/python/site-packages (from tensorflow) (1.6.3)\n",
            "Requirement already satisfied: flatbuffers>=23.5.26 in /Users/apple/Library/Python/3.9/lib/python/site-packages (from tensorflow) (23.5.26)\n",
            "Requirement already satisfied: gast!=0.5.0,!=0.5.1,!=0.5.2,>=0.2.1 in /Users/apple/Library/Python/3.9/lib/python/site-packages (from tensorflow) (0.5.4)\n",
            "Requirement already satisfied: google-pasta>=0.1.1 in /Users/apple/Library/Python/3.9/lib/python/site-packages (from tensorflow) (0.2.0)\n",
            "Requirement already satisfied: h5py>=3.10.0 in /Users/apple/Library/Python/3.9/lib/python/site-packages (from tensorflow) (3.10.0)\n",
            "Requirement already satisfied: libclang>=13.0.0 in /Users/apple/Library/Python/3.9/lib/python/site-packages (from tensorflow) (16.0.6)\n",
            "Requirement already satisfied: ml-dtypes~=0.3.1 in /Users/apple/Library/Python/3.9/lib/python/site-packages (from tensorflow) (0.3.2)\n",
            "Requirement already satisfied: opt-einsum>=2.3.2 in /Users/apple/Library/Python/3.9/lib/python/site-packages (from tensorflow) (3.3.0)\n",
            "Requirement already satisfied: packaging in /Users/apple/Library/Python/3.9/lib/python/site-packages (from tensorflow) (23.2)\n",
            "Requirement already satisfied: protobuf!=4.21.0,!=4.21.1,!=4.21.2,!=4.21.3,!=4.21.4,!=4.21.5,<5.0.0dev,>=3.20.3 in /Users/apple/Library/Python/3.9/lib/python/site-packages (from tensorflow) (4.23.4)\n",
            "Requirement already satisfied: requests<3,>=2.21.0 in /Users/apple/Library/Python/3.9/lib/python/site-packages (from tensorflow) (2.31.0)\n",
            "Requirement already satisfied: setuptools in /Users/apple/Library/Python/3.9/lib/python/site-packages (from tensorflow) (69.0.3)\n",
            "Requirement already satisfied: six>=1.12.0 in /Library/Developer/CommandLineTools/Library/Frameworks/Python3.framework/Versions/3.9/lib/python3.9/site-packages (from tensorflow) (1.15.0)\n",
            "Requirement already satisfied: termcolor>=1.1.0 in /Users/apple/Library/Python/3.9/lib/python/site-packages (from tensorflow) (2.4.0)\n",
            "Requirement already satisfied: typing-extensions>=3.6.6 in /Users/apple/Library/Python/3.9/lib/python/site-packages (from tensorflow) (4.9.0)\n",
            "Requirement already satisfied: wrapt>=1.11.0 in /Users/apple/Library/Python/3.9/lib/python/site-packages (from tensorflow) (1.14.1)\n",
            "Requirement already satisfied: grpcio<2.0,>=1.24.3 in /Users/apple/Library/Python/3.9/lib/python/site-packages (from tensorflow) (1.60.0)\n",
            "Requirement already satisfied: tensorboard<2.17,>=2.16 in /Users/apple/Library/Python/3.9/lib/python/site-packages (from tensorflow) (2.16.2)\n",
            "Requirement already satisfied: keras>=3.0.0 in /Users/apple/Library/Python/3.9/lib/python/site-packages (from tensorflow) (3.2.1)\n",
            "Requirement already satisfied: tensorflow-io-gcs-filesystem>=0.23.1 in /Users/apple/Library/Python/3.9/lib/python/site-packages (from tensorflow) (0.34.0)\n",
            "Requirement already satisfied: numpy<2.0.0,>=1.23.5 in /Users/apple/Library/Python/3.9/lib/python/site-packages (from tensorflow) (1.26.3)\n",
            "Requirement already satisfied: wheel<1.0,>=0.23.0 in /Library/Developer/CommandLineTools/Library/Frameworks/Python3.framework/Versions/3.9/lib/python3.9/site-packages (from astunparse>=1.6.0->tensorflow) (0.37.0)\n",
            "Requirement already satisfied: rich in /Users/apple/Library/Python/3.9/lib/python/site-packages (from keras>=3.0.0->tensorflow) (13.7.1)\n",
            "Requirement already satisfied: namex in /Users/apple/Library/Python/3.9/lib/python/site-packages (from keras>=3.0.0->tensorflow) (0.0.8)\n",
            "Requirement already satisfied: optree in /Users/apple/Library/Python/3.9/lib/python/site-packages (from keras>=3.0.0->tensorflow) (0.11.0)\n",
            "Requirement already satisfied: charset-normalizer<4,>=2 in /Users/apple/Library/Python/3.9/lib/python/site-packages (from requests<3,>=2.21.0->tensorflow) (3.3.2)\n",
            "Requirement already satisfied: idna<4,>=2.5 in /Users/apple/Library/Python/3.9/lib/python/site-packages (from requests<3,>=2.21.0->tensorflow) (3.6)\n",
            "Requirement already satisfied: urllib3<3,>=1.21.1 in /Users/apple/Library/Python/3.9/lib/python/site-packages (from requests<3,>=2.21.0->tensorflow) (2.1.0)\n",
            "Requirement already satisfied: certifi>=2017.4.17 in /Users/apple/Library/Python/3.9/lib/python/site-packages (from requests<3,>=2.21.0->tensorflow) (2023.11.17)\n",
            "Requirement already satisfied: markdown>=2.6.8 in /Users/apple/Library/Python/3.9/lib/python/site-packages (from tensorboard<2.17,>=2.16->tensorflow) (3.5.2)\n",
            "Requirement already satisfied: tensorboard-data-server<0.8.0,>=0.7.0 in /Users/apple/Library/Python/3.9/lib/python/site-packages (from tensorboard<2.17,>=2.16->tensorflow) (0.7.2)\n",
            "Requirement already satisfied: werkzeug>=1.0.1 in /Users/apple/Library/Python/3.9/lib/python/site-packages (from tensorboard<2.17,>=2.16->tensorflow) (3.0.1)\n",
            "Requirement already satisfied: importlib-metadata>=4.4 in /Users/apple/Library/Python/3.9/lib/python/site-packages (from markdown>=2.6.8->tensorboard<2.17,>=2.16->tensorflow) (7.0.1)\n",
            "Requirement already satisfied: MarkupSafe>=2.1.1 in /Users/apple/Library/Python/3.9/lib/python/site-packages (from werkzeug>=1.0.1->tensorboard<2.17,>=2.16->tensorflow) (2.1.3)\n",
            "Requirement already satisfied: markdown-it-py>=2.2.0 in /Users/apple/Library/Python/3.9/lib/python/site-packages (from rich->keras>=3.0.0->tensorflow) (3.0.0)\n",
            "Requirement already satisfied: pygments<3.0.0,>=2.13.0 in /Users/apple/Library/Python/3.9/lib/python/site-packages (from rich->keras>=3.0.0->tensorflow) (2.17.2)\n",
            "Requirement already satisfied: zipp>=0.5 in /Users/apple/Library/Python/3.9/lib/python/site-packages (from importlib-metadata>=4.4->markdown>=2.6.8->tensorboard<2.17,>=2.16->tensorflow) (3.17.0)\n",
            "Requirement already satisfied: mdurl~=0.1 in /Users/apple/Library/Python/3.9/lib/python/site-packages (from markdown-it-py>=2.2.0->rich->keras>=3.0.0->tensorflow) (0.1.2)\n",
            "Defaulting to user installation because normal site-packages is not writeable\n",
            "Requirement already satisfied: tensorflow-probability in /Users/apple/Library/Python/3.9/lib/python/site-packages (0.24.0)\n",
            "Requirement already satisfied: absl-py in /Users/apple/Library/Python/3.9/lib/python/site-packages (from tensorflow-probability) (2.1.0)\n",
            "Requirement already satisfied: six>=1.10.0 in /Library/Developer/CommandLineTools/Library/Frameworks/Python3.framework/Versions/3.9/lib/python3.9/site-packages (from tensorflow-probability) (1.15.0)\n",
            "Requirement already satisfied: numpy>=1.13.3 in /Users/apple/Library/Python/3.9/lib/python/site-packages (from tensorflow-probability) (1.26.3)\n",
            "Requirement already satisfied: decorator in /Users/apple/Library/Python/3.9/lib/python/site-packages (from tensorflow-probability) (5.1.1)\n",
            "Requirement already satisfied: cloudpickle>=1.3 in /Users/apple/Library/Python/3.9/lib/python/site-packages (from tensorflow-probability) (3.0.0)\n",
            "Requirement already satisfied: gast>=0.3.2 in /Users/apple/Library/Python/3.9/lib/python/site-packages (from tensorflow-probability) (0.5.4)\n",
            "Requirement already satisfied: dm-tree in /Users/apple/Library/Python/3.9/lib/python/site-packages (from tensorflow-probability) (0.1.8)\n",
            "Defaulting to user installation because normal site-packages is not writeable\n",
            "Requirement already satisfied: tensorflow-probability[tf] in /Users/apple/Library/Python/3.9/lib/python/site-packages (0.24.0)\n",
            "Requirement already satisfied: absl-py in /Users/apple/Library/Python/3.9/lib/python/site-packages (from tensorflow-probability[tf]) (2.1.0)\n",
            "Requirement already satisfied: six>=1.10.0 in /Library/Developer/CommandLineTools/Library/Frameworks/Python3.framework/Versions/3.9/lib/python3.9/site-packages (from tensorflow-probability[tf]) (1.15.0)\n",
            "Requirement already satisfied: numpy>=1.13.3 in /Users/apple/Library/Python/3.9/lib/python/site-packages (from tensorflow-probability[tf]) (1.26.3)\n",
            "Requirement already satisfied: decorator in /Users/apple/Library/Python/3.9/lib/python/site-packages (from tensorflow-probability[tf]) (5.1.1)\n",
            "Requirement already satisfied: cloudpickle>=1.3 in /Users/apple/Library/Python/3.9/lib/python/site-packages (from tensorflow-probability[tf]) (3.0.0)\n",
            "Requirement already satisfied: gast>=0.3.2 in /Users/apple/Library/Python/3.9/lib/python/site-packages (from tensorflow-probability[tf]) (0.5.4)\n",
            "Requirement already satisfied: dm-tree in /Users/apple/Library/Python/3.9/lib/python/site-packages (from tensorflow-probability[tf]) (0.1.8)\n",
            "Requirement already satisfied: tensorflow>=2.16 in /Users/apple/Library/Python/3.9/lib/python/site-packages (from tensorflow-probability[tf]) (2.16.1)\n",
            "Requirement already satisfied: tf-keras>=2.16 in /Users/apple/Library/Python/3.9/lib/python/site-packages (from tensorflow-probability[tf]) (2.16.0)\n",
            "Requirement already satisfied: astunparse>=1.6.0 in /Users/apple/Library/Python/3.9/lib/python/site-packages (from tensorflow>=2.16->tensorflow-probability[tf]) (1.6.3)\n",
            "Requirement already satisfied: flatbuffers>=23.5.26 in /Users/apple/Library/Python/3.9/lib/python/site-packages (from tensorflow>=2.16->tensorflow-probability[tf]) (23.5.26)\n",
            "Requirement already satisfied: google-pasta>=0.1.1 in /Users/apple/Library/Python/3.9/lib/python/site-packages (from tensorflow>=2.16->tensorflow-probability[tf]) (0.2.0)\n",
            "Requirement already satisfied: h5py>=3.10.0 in /Users/apple/Library/Python/3.9/lib/python/site-packages (from tensorflow>=2.16->tensorflow-probability[tf]) (3.10.0)\n",
            "Requirement already satisfied: libclang>=13.0.0 in /Users/apple/Library/Python/3.9/lib/python/site-packages (from tensorflow>=2.16->tensorflow-probability[tf]) (16.0.6)\n",
            "Requirement already satisfied: ml-dtypes~=0.3.1 in /Users/apple/Library/Python/3.9/lib/python/site-packages (from tensorflow>=2.16->tensorflow-probability[tf]) (0.3.2)\n",
            "Requirement already satisfied: opt-einsum>=2.3.2 in /Users/apple/Library/Python/3.9/lib/python/site-packages (from tensorflow>=2.16->tensorflow-probability[tf]) (3.3.0)\n",
            "Requirement already satisfied: packaging in /Users/apple/Library/Python/3.9/lib/python/site-packages (from tensorflow>=2.16->tensorflow-probability[tf]) (23.2)\n",
            "Requirement already satisfied: protobuf!=4.21.0,!=4.21.1,!=4.21.2,!=4.21.3,!=4.21.4,!=4.21.5,<5.0.0dev,>=3.20.3 in /Users/apple/Library/Python/3.9/lib/python/site-packages (from tensorflow>=2.16->tensorflow-probability[tf]) (4.23.4)\n",
            "Requirement already satisfied: requests<3,>=2.21.0 in /Users/apple/Library/Python/3.9/lib/python/site-packages (from tensorflow>=2.16->tensorflow-probability[tf]) (2.31.0)\n",
            "Requirement already satisfied: setuptools in /Users/apple/Library/Python/3.9/lib/python/site-packages (from tensorflow>=2.16->tensorflow-probability[tf]) (69.0.3)\n",
            "Requirement already satisfied: termcolor>=1.1.0 in /Users/apple/Library/Python/3.9/lib/python/site-packages (from tensorflow>=2.16->tensorflow-probability[tf]) (2.4.0)\n",
            "Requirement already satisfied: typing-extensions>=3.6.6 in /Users/apple/Library/Python/3.9/lib/python/site-packages (from tensorflow>=2.16->tensorflow-probability[tf]) (4.9.0)\n",
            "Requirement already satisfied: wrapt>=1.11.0 in /Users/apple/Library/Python/3.9/lib/python/site-packages (from tensorflow>=2.16->tensorflow-probability[tf]) (1.14.1)\n",
            "Requirement already satisfied: grpcio<2.0,>=1.24.3 in /Users/apple/Library/Python/3.9/lib/python/site-packages (from tensorflow>=2.16->tensorflow-probability[tf]) (1.60.0)\n",
            "Requirement already satisfied: tensorboard<2.17,>=2.16 in /Users/apple/Library/Python/3.9/lib/python/site-packages (from tensorflow>=2.16->tensorflow-probability[tf]) (2.16.2)\n",
            "Requirement already satisfied: keras>=3.0.0 in /Users/apple/Library/Python/3.9/lib/python/site-packages (from tensorflow>=2.16->tensorflow-probability[tf]) (3.2.1)\n",
            "Requirement already satisfied: tensorflow-io-gcs-filesystem>=0.23.1 in /Users/apple/Library/Python/3.9/lib/python/site-packages (from tensorflow>=2.16->tensorflow-probability[tf]) (0.34.0)\n",
            "Requirement already satisfied: wheel<1.0,>=0.23.0 in /Library/Developer/CommandLineTools/Library/Frameworks/Python3.framework/Versions/3.9/lib/python3.9/site-packages (from astunparse>=1.6.0->tensorflow>=2.16->tensorflow-probability[tf]) (0.37.0)\n",
            "Requirement already satisfied: rich in /Users/apple/Library/Python/3.9/lib/python/site-packages (from keras>=3.0.0->tensorflow>=2.16->tensorflow-probability[tf]) (13.7.1)\n",
            "Requirement already satisfied: namex in /Users/apple/Library/Python/3.9/lib/python/site-packages (from keras>=3.0.0->tensorflow>=2.16->tensorflow-probability[tf]) (0.0.8)\n",
            "Requirement already satisfied: optree in /Users/apple/Library/Python/3.9/lib/python/site-packages (from keras>=3.0.0->tensorflow>=2.16->tensorflow-probability[tf]) (0.11.0)\n",
            "Requirement already satisfied: charset-normalizer<4,>=2 in /Users/apple/Library/Python/3.9/lib/python/site-packages (from requests<3,>=2.21.0->tensorflow>=2.16->tensorflow-probability[tf]) (3.3.2)\n",
            "Requirement already satisfied: idna<4,>=2.5 in /Users/apple/Library/Python/3.9/lib/python/site-packages (from requests<3,>=2.21.0->tensorflow>=2.16->tensorflow-probability[tf]) (3.6)\n",
            "Requirement already satisfied: urllib3<3,>=1.21.1 in /Users/apple/Library/Python/3.9/lib/python/site-packages (from requests<3,>=2.21.0->tensorflow>=2.16->tensorflow-probability[tf]) (2.1.0)\n",
            "Requirement already satisfied: certifi>=2017.4.17 in /Users/apple/Library/Python/3.9/lib/python/site-packages (from requests<3,>=2.21.0->tensorflow>=2.16->tensorflow-probability[tf]) (2023.11.17)\n",
            "Requirement already satisfied: markdown>=2.6.8 in /Users/apple/Library/Python/3.9/lib/python/site-packages (from tensorboard<2.17,>=2.16->tensorflow>=2.16->tensorflow-probability[tf]) (3.5.2)\n",
            "Requirement already satisfied: tensorboard-data-server<0.8.0,>=0.7.0 in /Users/apple/Library/Python/3.9/lib/python/site-packages (from tensorboard<2.17,>=2.16->tensorflow>=2.16->tensorflow-probability[tf]) (0.7.2)\n",
            "Requirement already satisfied: werkzeug>=1.0.1 in /Users/apple/Library/Python/3.9/lib/python/site-packages (from tensorboard<2.17,>=2.16->tensorflow>=2.16->tensorflow-probability[tf]) (3.0.1)\n",
            "Requirement already satisfied: importlib-metadata>=4.4 in /Users/apple/Library/Python/3.9/lib/python/site-packages (from markdown>=2.6.8->tensorboard<2.17,>=2.16->tensorflow>=2.16->tensorflow-probability[tf]) (7.0.1)\n",
            "Requirement already satisfied: MarkupSafe>=2.1.1 in /Users/apple/Library/Python/3.9/lib/python/site-packages (from werkzeug>=1.0.1->tensorboard<2.17,>=2.16->tensorflow>=2.16->tensorflow-probability[tf]) (2.1.3)\n",
            "Requirement already satisfied: markdown-it-py>=2.2.0 in /Users/apple/Library/Python/3.9/lib/python/site-packages (from rich->keras>=3.0.0->tensorflow>=2.16->tensorflow-probability[tf]) (3.0.0)\n",
            "Requirement already satisfied: pygments<3.0.0,>=2.13.0 in /Users/apple/Library/Python/3.9/lib/python/site-packages (from rich->keras>=3.0.0->tensorflow>=2.16->tensorflow-probability[tf]) (2.17.2)\n",
            "Requirement already satisfied: zipp>=0.5 in /Users/apple/Library/Python/3.9/lib/python/site-packages (from importlib-metadata>=4.4->markdown>=2.6.8->tensorboard<2.17,>=2.16->tensorflow>=2.16->tensorflow-probability[tf]) (3.17.0)\n",
            "Requirement already satisfied: mdurl~=0.1 in /Users/apple/Library/Python/3.9/lib/python/site-packages (from markdown-it-py>=2.2.0->rich->keras>=3.0.0->tensorflow>=2.16->tensorflow-probability[tf]) (0.1.2)\n"
          ]
        }
      ],
      "source": [
        "# This Python 3 environment comes with many helpful analytics libraries installed\n",
        "# For example, here's several helpful packages to load\n",
        "!pip3 install --upgrade tensorflow\n",
        "!pip3 install --upgrade tensorflow-probability\n",
        "!pip install --upgrade \"tensorflow-probability[tf]\"\n",
        "\n",
        "\n",
        "\n",
        "import numpy as np # linear algebra\n",
        "import pandas as pd # data processing, CSV file I/O (e.g. pd.read_csv)\n",
        "import seaborn as sns\n",
        "import matplotlib.pyplot as plt\n",
        "import scipy.stats as stats\n",
        "# 設定 seaborn 主題，這會影響圖表的風格和顏色\n",
        "sns.set_theme()  # Apply the default Seaborn theme\n",
        "%matplotlib inline\n",
        "# Libraries for statistical and scientific computing\n",
        "import statsmodels.api as sm\n",
        "from scipy import stats\n",
        "from pytorch_lightning.callbacks import EarlyStopping, Callback, ModelCheckpoint\n",
        "from sklearn.preprocessing import MinMaxScaler, StandardScaler"
      ]
    },
    {
      "cell_type": "code",
      "execution_count": 2,
      "metadata": {},
      "outputs": [
        {
          "name": "stderr",
          "output_type": "stream",
          "text": [
            "/Users/apple/Library/Python/3.9/lib/python/site-packages/urllib3/__init__.py:34: NotOpenSSLWarning: urllib3 v2 only supports OpenSSL 1.1.1+, currently the 'ssl' module is compiled with 'LibreSSL 2.8.3'. See: https://github.com/urllib3/urllib3/issues/3020\n",
            "  warnings.warn(\n"
          ]
        },
        {
          "name": "stdout",
          "output_type": "stream",
          "text": [
            "TF version: 2.16.1\n",
            "TFP version: 0.24.0\n"
          ]
        }
      ],
      "source": [
        "import tensorflow as tf\n",
        "import tensorflow_probability as tfp\n",
        "tfd = tfp.distributions\n",
        "tfpl = tfp.layers\n",
        "\n",
        "print('TF version:', tf.__version__)\n",
        "print('TFP version:', tfp.__version__)\n",
        "\n",
        "from keras.models import Sequential, Model\n",
        "from keras.layers import Dense, Conv1D, MaxPooling1D, Flatten, Dropout, LSTM, TimeDistributed, ConvLSTM2D, Bidirectional, Input, Concatenate\n",
        "from keras.losses import SparseCategoricalCrossentropy, BinaryCrossentropy\n",
        "from keras.callbacks import ModelCheckpoint, ReduceLROnPlateau, EarlyStopping\n",
        "\n",
        "from sklearn.preprocessing import StandardScaler, OneHotEncoder\n",
        "\n",
        "from pathlib import Path\n",
        "\n",
        "import os\n",
        "import numpy as np\n",
        "import pandas as pd\n",
        "import matplotlib.pyplot as plt"
      ]
    },
    {
      "cell_type": "code",
      "execution_count": 3,
      "metadata": {
        "colab": {
          "base_uri": "https://localhost:8080/",
          "height": 206
        },
        "id": "B4tF1dV9orsZ",
        "outputId": "c04d0d40-03c3-4eaa-d0c0-005b87bc668f"
      },
      "outputs": [
        {
          "data": {
            "text/html": [
              "<div>\n",
              "<style scoped>\n",
              "    .dataframe tbody tr th:only-of-type {\n",
              "        vertical-align: middle;\n",
              "    }\n",
              "\n",
              "    .dataframe tbody tr th {\n",
              "        vertical-align: top;\n",
              "    }\n",
              "\n",
              "    .dataframe thead th {\n",
              "        text-align: right;\n",
              "    }\n",
              "</style>\n",
              "<table border=\"1\" class=\"dataframe\">\n",
              "  <thead>\n",
              "    <tr style=\"text-align: right;\">\n",
              "      <th></th>\n",
              "      <th>si1m</th>\n",
              "      <th>CO</th>\n",
              "      <th>CI</th>\n",
              "      <th>SV</th>\n",
              "      <th>SVI</th>\n",
              "      <th>SVV</th>\n",
              "      <th>SVR</th>\n",
              "      <th>SVRI</th>\n",
              "      <th>PR</th>\n",
              "      <th>SYS</th>\n",
              "      <th>DIA</th>\n",
              "      <th>MAP</th>\n",
              "      <th>ID</th>\n",
              "      <th>time</th>\n",
              "    </tr>\n",
              "  </thead>\n",
              "  <tbody>\n",
              "    <tr>\n",
              "      <th>0</th>\n",
              "      <td>N</td>\n",
              "      <td>4.0</td>\n",
              "      <td>2.4</td>\n",
              "      <td>43</td>\n",
              "      <td>26.0</td>\n",
              "      <td>10</td>\n",
              "      <td>1673.0</td>\n",
              "      <td>2745.0</td>\n",
              "      <td>93</td>\n",
              "      <td>116</td>\n",
              "      <td>74</td>\n",
              "      <td>91</td>\n",
              "      <td>#_1</td>\n",
              "      <td>120.000000</td>\n",
              "    </tr>\n",
              "    <tr>\n",
              "      <th>1</th>\n",
              "      <td>N</td>\n",
              "      <td>4.0</td>\n",
              "      <td>2.4</td>\n",
              "      <td>43</td>\n",
              "      <td>26.0</td>\n",
              "      <td>10</td>\n",
              "      <td>1683.0</td>\n",
              "      <td>2760.0</td>\n",
              "      <td>92</td>\n",
              "      <td>118</td>\n",
              "      <td>74</td>\n",
              "      <td>91</td>\n",
              "      <td>#_1</td>\n",
              "      <td>120.333333</td>\n",
              "    </tr>\n",
              "    <tr>\n",
              "      <th>2</th>\n",
              "      <td>N</td>\n",
              "      <td>3.6</td>\n",
              "      <td>2.2</td>\n",
              "      <td>39</td>\n",
              "      <td>24.0</td>\n",
              "      <td>17</td>\n",
              "      <td>1978.0</td>\n",
              "      <td>3245.0</td>\n",
              "      <td>92</td>\n",
              "      <td>121</td>\n",
              "      <td>80</td>\n",
              "      <td>97</td>\n",
              "      <td>#_1</td>\n",
              "      <td>120.666667</td>\n",
              "    </tr>\n",
              "    <tr>\n",
              "      <th>3</th>\n",
              "      <td>N</td>\n",
              "      <td>3.6</td>\n",
              "      <td>2.2</td>\n",
              "      <td>41</td>\n",
              "      <td>25.0</td>\n",
              "      <td>17</td>\n",
              "      <td>1868.0</td>\n",
              "      <td>3065.0</td>\n",
              "      <td>88</td>\n",
              "      <td>118</td>\n",
              "      <td>76</td>\n",
              "      <td>93</td>\n",
              "      <td>#_1</td>\n",
              "      <td>121.000000</td>\n",
              "    </tr>\n",
              "    <tr>\n",
              "      <th>4</th>\n",
              "      <td>N</td>\n",
              "      <td>4.2</td>\n",
              "      <td>2.6</td>\n",
              "      <td>42</td>\n",
              "      <td>26.0</td>\n",
              "      <td>10</td>\n",
              "      <td>1335.0</td>\n",
              "      <td>2190.0</td>\n",
              "      <td>100</td>\n",
              "      <td>100</td>\n",
              "      <td>66</td>\n",
              "      <td>78</td>\n",
              "      <td>#_1</td>\n",
              "      <td>121.333333</td>\n",
              "    </tr>\n",
              "  </tbody>\n",
              "</table>\n",
              "</div>"
            ],
            "text/plain": [
              "  si1m   CO   CI  SV   SVI  SVV     SVR    SVRI   PR  SYS  DIA  MAP   ID  \\\n",
              "0    N  4.0  2.4  43  26.0   10  1673.0  2745.0   93  116   74   91  #_1   \n",
              "1    N  4.0  2.4  43  26.0   10  1683.0  2760.0   92  118   74   91  #_1   \n",
              "2    N  3.6  2.2  39  24.0   17  1978.0  3245.0   92  121   80   97  #_1   \n",
              "3    N  3.6  2.2  41  25.0   17  1868.0  3065.0   88  118   76   93  #_1   \n",
              "4    N  4.2  2.6  42  26.0   10  1335.0  2190.0  100  100   66   78  #_1   \n",
              "\n",
              "         time  \n",
              "0  120.000000  \n",
              "1  120.333333  \n",
              "2  120.666667  \n",
              "3  121.000000  \n",
              "4  121.333333  "
            ]
          },
          "execution_count": 3,
          "metadata": {},
          "output_type": "execute_result"
        }
      ],
      "source": [
        "# 使用pandas讀取CSV文件\n",
        "df = pd.read_csv('https://raw.githubusercontent.com/xc90529/noninvasive_data_visualization/main/noninvasive_data.csv')\n",
        "\n",
        "# To display the top 5 rows\n",
        "df.head(5)\n",
        "#CO-心輸出量\n",
        "#CI - 心輸出指數\n",
        "#SV - 舒張容積\n",
        "#SVI - 舒張容積指數\n",
        "#SVV - 舒張容積變異度\n",
        "#SVR - 舒張容積阻力\n",
        "#SVRI - 舒張容積指數阻力\n",
        "#PR - 脈搏率\n",
        "#SYS - 收縮壓\n",
        "#DIA - 舒張壓\n",
        "#MAP - 平均動脈壓"
      ]
    },
    {
      "cell_type": "code",
      "execution_count": 4,
      "metadata": {
        "colab": {
          "base_uri": "https://localhost:8080/",
          "height": 206
        },
        "id": "RZJDKiWwchHF",
        "outputId": "dd655060-adc7-4f6d-9373-28df38db0b40"
      },
      "outputs": [
        {
          "data": {
            "text/html": [
              "<div>\n",
              "<style scoped>\n",
              "    .dataframe tbody tr th:only-of-type {\n",
              "        vertical-align: middle;\n",
              "    }\n",
              "\n",
              "    .dataframe tbody tr th {\n",
              "        vertical-align: top;\n",
              "    }\n",
              "\n",
              "    .dataframe thead th {\n",
              "        text-align: right;\n",
              "    }\n",
              "</style>\n",
              "<table border=\"1\" class=\"dataframe\">\n",
              "  <thead>\n",
              "    <tr style=\"text-align: right;\">\n",
              "      <th></th>\n",
              "      <th>si1m</th>\n",
              "      <th>CO</th>\n",
              "      <th>CI</th>\n",
              "      <th>SV</th>\n",
              "      <th>SVI</th>\n",
              "      <th>SVV</th>\n",
              "      <th>SVR</th>\n",
              "      <th>SVRI</th>\n",
              "      <th>PR</th>\n",
              "      <th>SYS</th>\n",
              "      <th>DIA</th>\n",
              "      <th>MAP</th>\n",
              "      <th>ID</th>\n",
              "      <th>time</th>\n",
              "      <th>PR/SYS</th>\n",
              "    </tr>\n",
              "  </thead>\n",
              "  <tbody>\n",
              "    <tr>\n",
              "      <th>0</th>\n",
              "      <td>N</td>\n",
              "      <td>4.0</td>\n",
              "      <td>2.4</td>\n",
              "      <td>43</td>\n",
              "      <td>26.0</td>\n",
              "      <td>10</td>\n",
              "      <td>1673.0</td>\n",
              "      <td>2745.0</td>\n",
              "      <td>93</td>\n",
              "      <td>116</td>\n",
              "      <td>74</td>\n",
              "      <td>91</td>\n",
              "      <td>#_1</td>\n",
              "      <td>120.000000</td>\n",
              "      <td>0.801724</td>\n",
              "    </tr>\n",
              "    <tr>\n",
              "      <th>1</th>\n",
              "      <td>N</td>\n",
              "      <td>4.0</td>\n",
              "      <td>2.4</td>\n",
              "      <td>43</td>\n",
              "      <td>26.0</td>\n",
              "      <td>10</td>\n",
              "      <td>1683.0</td>\n",
              "      <td>2760.0</td>\n",
              "      <td>92</td>\n",
              "      <td>118</td>\n",
              "      <td>74</td>\n",
              "      <td>91</td>\n",
              "      <td>#_1</td>\n",
              "      <td>120.333333</td>\n",
              "      <td>0.779661</td>\n",
              "    </tr>\n",
              "    <tr>\n",
              "      <th>2</th>\n",
              "      <td>N</td>\n",
              "      <td>3.6</td>\n",
              "      <td>2.2</td>\n",
              "      <td>39</td>\n",
              "      <td>24.0</td>\n",
              "      <td>17</td>\n",
              "      <td>1978.0</td>\n",
              "      <td>3245.0</td>\n",
              "      <td>92</td>\n",
              "      <td>121</td>\n",
              "      <td>80</td>\n",
              "      <td>97</td>\n",
              "      <td>#_1</td>\n",
              "      <td>120.666667</td>\n",
              "      <td>0.760331</td>\n",
              "    </tr>\n",
              "    <tr>\n",
              "      <th>3</th>\n",
              "      <td>N</td>\n",
              "      <td>3.6</td>\n",
              "      <td>2.2</td>\n",
              "      <td>41</td>\n",
              "      <td>25.0</td>\n",
              "      <td>17</td>\n",
              "      <td>1868.0</td>\n",
              "      <td>3065.0</td>\n",
              "      <td>88</td>\n",
              "      <td>118</td>\n",
              "      <td>76</td>\n",
              "      <td>93</td>\n",
              "      <td>#_1</td>\n",
              "      <td>121.000000</td>\n",
              "      <td>0.745763</td>\n",
              "    </tr>\n",
              "    <tr>\n",
              "      <th>4</th>\n",
              "      <td>N</td>\n",
              "      <td>4.2</td>\n",
              "      <td>2.6</td>\n",
              "      <td>42</td>\n",
              "      <td>26.0</td>\n",
              "      <td>10</td>\n",
              "      <td>1335.0</td>\n",
              "      <td>2190.0</td>\n",
              "      <td>100</td>\n",
              "      <td>100</td>\n",
              "      <td>66</td>\n",
              "      <td>78</td>\n",
              "      <td>#_1</td>\n",
              "      <td>121.333333</td>\n",
              "      <td>1.000000</td>\n",
              "    </tr>\n",
              "  </tbody>\n",
              "</table>\n",
              "</div>"
            ],
            "text/plain": [
              "  si1m   CO   CI  SV   SVI  SVV     SVR    SVRI   PR  SYS  DIA  MAP   ID  \\\n",
              "0    N  4.0  2.4  43  26.0   10  1673.0  2745.0   93  116   74   91  #_1   \n",
              "1    N  4.0  2.4  43  26.0   10  1683.0  2760.0   92  118   74   91  #_1   \n",
              "2    N  3.6  2.2  39  24.0   17  1978.0  3245.0   92  121   80   97  #_1   \n",
              "3    N  3.6  2.2  41  25.0   17  1868.0  3065.0   88  118   76   93  #_1   \n",
              "4    N  4.2  2.6  42  26.0   10  1335.0  2190.0  100  100   66   78  #_1   \n",
              "\n",
              "         time    PR/SYS  \n",
              "0  120.000000  0.801724  \n",
              "1  120.333333  0.779661  \n",
              "2  120.666667  0.760331  \n",
              "3  121.000000  0.745763  \n",
              "4  121.333333  1.000000  "
            ]
          },
          "execution_count": 4,
          "metadata": {},
          "output_type": "execute_result"
        }
      ],
      "source": [
        "# Calculating the Shock Index as PR / SYS\n",
        "df['PR/SYS'] = df['PR'] / df['SYS']\n",
        "\n",
        "# Displaying the first few rows of the dataframe to confirm the new variable\n",
        "df.head()"
      ]
    },
    {
      "cell_type": "code",
      "execution_count": 5,
      "metadata": {
        "colab": {
          "base_uri": "https://localhost:8080/"
        },
        "id": "dg_w4wovSsD3",
        "outputId": "2ca666c2-5b98-4ce1-c385-7be46f69d027"
      },
      "outputs": [
        {
          "name": "stdout",
          "output_type": "stream",
          "text": [
            "Duplicate rows:\n",
            "      si1m   CO        CI  SV        SVI  SVV     SVR         SVRI   PR  SYS  \\\n",
            "17619    N  3.1  1.962025  49  31.012658   18  1558.0   986.075949   64   97   \n",
            "17620    N  3.1  1.962025  49  31.012658   18  1558.0   986.075949   64   97   \n",
            "17621    Y  2.9  1.835443  46  29.113924   17  1643.0  1039.873418   63   94   \n",
            "17622    N  2.9  1.835443  46  29.113924   17  1643.0  1039.873418   63   94   \n",
            "17623    Y  2.8  1.772152  45  28.481013   18  1878.0  1188.607595   62  101   \n",
            "...    ...  ...       ...  ..        ...  ...     ...          ...  ...  ...   \n",
            "35911    N  3.1  2.300000  27  20.000000   16  2038.0  2790.000000  116  101   \n",
            "35912    Y  3.1  2.200000  27  20.000000   16  2045.0  2800.000000  112  101   \n",
            "35913    N  3.1  2.200000  27  20.000000   16  2045.0  2800.000000  112  101   \n",
            "35914    Y  2.9  2.100000  29  21.000000   13  2150.0  2945.000000  102  101   \n",
            "35915    N  2.9  2.100000  29  21.000000   13  2150.0  2945.000000  102  101   \n",
            "\n",
            "       DIA  MAP    ID         time    PR/SYS  \n",
            "17619   54   69  #_14  1440.000000  0.659794  \n",
            "17620   54   69  #_14  1440.000000  0.659794  \n",
            "17621   54   68  #_14  1440.333333  0.670213  \n",
            "17622   54   68  #_14  1440.333333  0.670213  \n",
            "17623   58   73  #_14  1440.666667  0.613861  \n",
            "...    ...  ...   ...          ...       ...  \n",
            "35911   79   87  #_21  1530.333333  1.148515  \n",
            "35912   78   87  #_21  1530.666667  1.108911  \n",
            "35913   78   87  #_21  1530.666667  1.108911  \n",
            "35914   77   86  #_21  1531.000000  1.009901  \n",
            "35915   77   86  #_21  1531.000000  1.009901  \n",
            "\n",
            "[752 rows x 15 columns]\n",
            "重复行的数量： 376\n",
            "重复行：\n",
            "      si1m   CO        CI  SV        SVI  SVV     SVR         SVRI   PR  SYS  \\\n",
            "17620    N  3.1  1.962025  49  31.012658   18  1558.0   986.075949   64   97   \n",
            "17622    N  2.9  1.835443  46  29.113924   17  1643.0  1039.873418   63   94   \n",
            "17624    N  2.8  1.772152  45  28.481013   18  1878.0  1188.607595   62  101   \n",
            "17626    N  2.8  1.772152  47  29.746835   19  1725.0  1091.772152   61   95   \n",
            "17628    N  2.7  1.708861  46  29.113924    9  1825.0  1155.063291   60   95   \n",
            "...    ...  ...       ...  ..        ...  ...     ...          ...  ...  ...   \n",
            "35906    N  3.0  2.200000  29  21.000000   10  2108.0  2885.000000  104  101   \n",
            "35908    Y  2.8  2.100000  27  20.000000   10  2285.0  3130.000000  104  102   \n",
            "35911    N  3.1  2.300000  27  20.000000   16  2038.0  2790.000000  116  101   \n",
            "35913    N  3.1  2.200000  27  20.000000   16  2045.0  2800.000000  112  101   \n",
            "35915    N  2.9  2.100000  29  21.000000   13  2150.0  2945.000000  102  101   \n",
            "\n",
            "       DIA  MAP    ID         time    PR/SYS  \n",
            "17620   54   69  #_14  1440.000000  0.659794  \n",
            "17622   54   68  #_14  1440.333333  0.670213  \n",
            "17624   58   73  #_14  1440.666667  0.613861  \n",
            "17626   54   69  #_14  1441.000000  0.642105  \n",
            "17628   55   70  #_14  1441.333333  0.631579  \n",
            "...    ...  ...   ...          ...       ...  \n",
            "35906   77   86  #_21  1529.333333  1.029703  \n",
            "35908   78   88  #_21  1529.666667  1.019608  \n",
            "35911   79   87  #_21  1530.333333  1.148515  \n",
            "35913   78   87  #_21  1530.666667  1.108911  \n",
            "35915   77   86  #_21  1531.000000  1.009901  \n",
            "\n",
            "[376 rows x 15 columns]\n",
            "      si1m   CO   CI  SV   SVI  SVV     SVR    SVRI   PR  SYS  DIA  MAP    ID  \\\n",
            "0        N  4.0  2.4  43  26.0   10  1673.0  2745.0   93  116   74   91   #_1   \n",
            "1        N  4.0  2.4  43  26.0   10  1683.0  2760.0   92  118   74   91   #_1   \n",
            "2        N  3.6  2.2  39  24.0   17  1978.0  3245.0   92  121   80   97   #_1   \n",
            "3        N  3.6  2.2  41  25.0   17  1868.0  3065.0   88  118   76   93   #_1   \n",
            "4        N  4.2  2.6  42  26.0   10  1335.0  2190.0  100  100   66   78   #_1   \n",
            "...    ...  ...  ...  ..   ...  ...     ...     ...  ...  ...  ...  ...   ...   \n",
            "39408    Y  4.8  2.7  48  26.0   24   768.0  1390.0  101   66   48   54  #_28   \n",
            "39409    Y  4.3  2.4  42  23.0   24   750.0  1355.0  104   58   44   49  #_28   \n",
            "39410    Y  4.7  2.6  46  25.0   21   785.0  1420.0  102   65   48   54  #_28   \n",
            "39411    Y  4.9  2.7  48  26.0   22   823.0  1490.0  103   70   52   59  #_28   \n",
            "39412    Y  5.4  3.0  52  29.0   22   805.0  1455.0  104   76   56   63  #_28   \n",
            "\n",
            "              time    PR/SYS  \n",
            "0       120.000000  0.801724  \n",
            "1       120.333333  0.779661  \n",
            "2       120.666667  0.760331  \n",
            "3       121.000000  0.745763  \n",
            "4       121.333333  1.000000  \n",
            "...            ...       ...  \n",
            "39408  2192.333333  1.530303  \n",
            "39409  2192.666667  1.793103  \n",
            "39410  2193.000000  1.569231  \n",
            "39411  2193.333333  1.471429  \n",
            "39412  2193.666667  1.368421  \n",
            "\n",
            "[39037 rows x 15 columns]\n"
          ]
        }
      ],
      "source": [
        "# Remove the 'ID' column and the 'si1m' column from your DataFrame\n",
        "columns_to_check = df.drop(columns=['ID', 'si1m', ])\n",
        "\n",
        "# Use the duplicated method to find duplicate rows\n",
        "duplicate_rows = df[df.duplicated(subset=columns_to_check, keep=False)]\n",
        "\n",
        "# Print the content of duplicate rows\n",
        "print(\"Duplicate rows:\")\n",
        "print(duplicate_rows)\n",
        "# 要排除的列名\n",
        "columns_to_exclude = ['ID', 'si1m']\n",
        "\n",
        "# 选择除了要排除的列以外的其他列\n",
        "columns_to_check = df.columns[~df.columns.isin(columns_to_exclude)]\n",
        "\n",
        "# 使用 selected_columns 作为子集来检查重复行，保留第一个重复行\n",
        "duplicate_rows_df = df[df.duplicated(subset=columns_to_check, keep='first')]\n",
        "\n",
        "# 打印重复行的数量\n",
        "print(\"重复行的数量：\", duplicate_rows_df.shape[0])\n",
        "\n",
        "# 打印重复行的内容\n",
        "print(\"重复行：\")\n",
        "print(duplicate_rows_df)\n",
        "# 重置索引\n",
        "df.reset_index(drop=True, inplace=True)\n",
        "\n",
        "# 在原始数据框 df 中删除重复行\n",
        "df = df.drop(duplicate_rows_df.index)\n",
        "\n",
        "# 现在 df 中已经不包含重复行\n",
        "print(df)"
      ]
    },
    {
      "cell_type": "code",
      "execution_count": 6,
      "metadata": {},
      "outputs": [
        {
          "data": {
            "text/html": [
              "<div>\n",
              "<style scoped>\n",
              "    .dataframe tbody tr th:only-of-type {\n",
              "        vertical-align: middle;\n",
              "    }\n",
              "\n",
              "    .dataframe tbody tr th {\n",
              "        vertical-align: top;\n",
              "    }\n",
              "\n",
              "    .dataframe thead th {\n",
              "        text-align: right;\n",
              "    }\n",
              "</style>\n",
              "<table border=\"1\" class=\"dataframe\">\n",
              "  <thead>\n",
              "    <tr style=\"text-align: right;\">\n",
              "      <th></th>\n",
              "      <th>si1m</th>\n",
              "      <th>CO</th>\n",
              "      <th>CI</th>\n",
              "      <th>SV</th>\n",
              "      <th>SVI</th>\n",
              "      <th>SVV</th>\n",
              "      <th>SVR</th>\n",
              "      <th>SVRI</th>\n",
              "      <th>PR</th>\n",
              "      <th>SYS</th>\n",
              "      <th>DIA</th>\n",
              "      <th>MAP</th>\n",
              "      <th>ID</th>\n",
              "      <th>time</th>\n",
              "      <th>PR/SYS</th>\n",
              "    </tr>\n",
              "  </thead>\n",
              "  <tbody>\n",
              "    <tr>\n",
              "      <th>0</th>\n",
              "      <td>N</td>\n",
              "      <td>4.0</td>\n",
              "      <td>2.4</td>\n",
              "      <td>43</td>\n",
              "      <td>26.0</td>\n",
              "      <td>10</td>\n",
              "      <td>1673.0</td>\n",
              "      <td>2745.0</td>\n",
              "      <td>93</td>\n",
              "      <td>116</td>\n",
              "      <td>74</td>\n",
              "      <td>91</td>\n",
              "      <td>#_1</td>\n",
              "      <td>120.00000</td>\n",
              "      <td>0.80172</td>\n",
              "    </tr>\n",
              "    <tr>\n",
              "      <th>1</th>\n",
              "      <td>N</td>\n",
              "      <td>4.0</td>\n",
              "      <td>2.4</td>\n",
              "      <td>43</td>\n",
              "      <td>26.0</td>\n",
              "      <td>10</td>\n",
              "      <td>1683.0</td>\n",
              "      <td>2760.0</td>\n",
              "      <td>92</td>\n",
              "      <td>118</td>\n",
              "      <td>74</td>\n",
              "      <td>91</td>\n",
              "      <td>#_1</td>\n",
              "      <td>120.33333</td>\n",
              "      <td>0.77966</td>\n",
              "    </tr>\n",
              "    <tr>\n",
              "      <th>2</th>\n",
              "      <td>N</td>\n",
              "      <td>3.6</td>\n",
              "      <td>2.2</td>\n",
              "      <td>39</td>\n",
              "      <td>24.0</td>\n",
              "      <td>17</td>\n",
              "      <td>1978.0</td>\n",
              "      <td>3245.0</td>\n",
              "      <td>92</td>\n",
              "      <td>121</td>\n",
              "      <td>80</td>\n",
              "      <td>97</td>\n",
              "      <td>#_1</td>\n",
              "      <td>120.66667</td>\n",
              "      <td>0.76033</td>\n",
              "    </tr>\n",
              "    <tr>\n",
              "      <th>3</th>\n",
              "      <td>N</td>\n",
              "      <td>3.6</td>\n",
              "      <td>2.2</td>\n",
              "      <td>41</td>\n",
              "      <td>25.0</td>\n",
              "      <td>17</td>\n",
              "      <td>1868.0</td>\n",
              "      <td>3065.0</td>\n",
              "      <td>88</td>\n",
              "      <td>118</td>\n",
              "      <td>76</td>\n",
              "      <td>93</td>\n",
              "      <td>#_1</td>\n",
              "      <td>121.00000</td>\n",
              "      <td>0.74576</td>\n",
              "    </tr>\n",
              "    <tr>\n",
              "      <th>4</th>\n",
              "      <td>N</td>\n",
              "      <td>4.2</td>\n",
              "      <td>2.6</td>\n",
              "      <td>42</td>\n",
              "      <td>26.0</td>\n",
              "      <td>10</td>\n",
              "      <td>1335.0</td>\n",
              "      <td>2190.0</td>\n",
              "      <td>100</td>\n",
              "      <td>100</td>\n",
              "      <td>66</td>\n",
              "      <td>78</td>\n",
              "      <td>#_1</td>\n",
              "      <td>121.33333</td>\n",
              "      <td>1.00000</td>\n",
              "    </tr>\n",
              "  </tbody>\n",
              "</table>\n",
              "</div>"
            ],
            "text/plain": [
              "  si1m   CO   CI  SV   SVI  SVV     SVR    SVRI   PR  SYS  DIA  MAP   ID  \\\n",
              "0    N  4.0  2.4  43  26.0   10  1673.0  2745.0   93  116   74   91  #_1   \n",
              "1    N  4.0  2.4  43  26.0   10  1683.0  2760.0   92  118   74   91  #_1   \n",
              "2    N  3.6  2.2  39  24.0   17  1978.0  3245.0   92  121   80   97  #_1   \n",
              "3    N  3.6  2.2  41  25.0   17  1868.0  3065.0   88  118   76   93  #_1   \n",
              "4    N  4.2  2.6  42  26.0   10  1335.0  2190.0  100  100   66   78  #_1   \n",
              "\n",
              "        time   PR/SYS  \n",
              "0  120.00000  0.80172  \n",
              "1  120.33333  0.77966  \n",
              "2  120.66667  0.76033  \n",
              "3  121.00000  0.74576  \n",
              "4  121.33333  1.00000  "
            ]
          },
          "execution_count": 6,
          "metadata": {},
          "output_type": "execute_result"
        }
      ],
      "source": [
        "# 四舍五入 df 中的所有数值列到小数点后第五位\n",
        "rounded_df = df.round(5)\n",
        "\n",
        "rounded_df.head()"
      ]
    },
    {
      "cell_type": "markdown",
      "metadata": {},
      "source": [
        "相關係數分析"
      ]
    },
    {
      "cell_type": "code",
      "execution_count": 7,
      "metadata": {},
      "outputs": [
        {
          "name": "stdout",
          "output_type": "stream",
          "text": [
            "si1m      1.000000\n",
            "CO        0.033251\n",
            "CI        0.034217\n",
            "SV       -0.297894\n",
            "SVI      -0.336060\n",
            "SVV       0.090539\n",
            "SVR      -0.122073\n",
            "SVRI     -0.053453\n",
            "PR        0.551291\n",
            "SYS      -0.400070\n",
            "DIA      -0.045034\n",
            "MAP      -0.254025\n",
            "time     -0.052093\n",
            "PR/SYS    0.648060\n",
            "Name: si1m, dtype: float64\n"
          ]
        }
      ],
      "source": [
        "# 将 'si1m' 列中的 'Y' 转换为 1，'N' 转换为 0\n",
        "rounded_df['si1m'] = rounded_df['si1m'].apply(lambda x: 1 if x == 'Y' else 0)\n",
        "\n",
        "# 计算除 'ID' 列外的所有列的 Pearson 相关系数\n",
        "correlation_matrix = rounded_df.drop('ID', axis=1).corr()\n",
        "\n",
        "# 打印与 'si1m' 相关的相关系数\n",
        "print(correlation_matrix['si1m'])\n"
      ]
    },
    {
      "cell_type": "markdown",
      "metadata": {},
      "source": [
        "機器學習建模"
      ]
    },
    {
      "cell_type": "code",
      "execution_count": 8,
      "metadata": {},
      "outputs": [
        {
          "data": {
            "text/html": [
              "<div>\n",
              "<style scoped>\n",
              "    .dataframe tbody tr th:only-of-type {\n",
              "        vertical-align: middle;\n",
              "    }\n",
              "\n",
              "    .dataframe tbody tr th {\n",
              "        vertical-align: top;\n",
              "    }\n",
              "\n",
              "    .dataframe thead th {\n",
              "        text-align: right;\n",
              "    }\n",
              "</style>\n",
              "<table border=\"1\" class=\"dataframe\">\n",
              "  <thead>\n",
              "    <tr style=\"text-align: right;\">\n",
              "      <th></th>\n",
              "      <th>si1m</th>\n",
              "      <th>SV</th>\n",
              "      <th>SVI</th>\n",
              "      <th>PR</th>\n",
              "      <th>SYS</th>\n",
              "      <th>MAP</th>\n",
              "      <th>PR/SYS</th>\n",
              "    </tr>\n",
              "    <tr>\n",
              "      <th>time</th>\n",
              "      <th></th>\n",
              "      <th></th>\n",
              "      <th></th>\n",
              "      <th></th>\n",
              "      <th></th>\n",
              "      <th></th>\n",
              "      <th></th>\n",
              "    </tr>\n",
              "  </thead>\n",
              "  <tbody>\n",
              "    <tr>\n",
              "      <th>120.00000</th>\n",
              "      <td>0</td>\n",
              "      <td>43</td>\n",
              "      <td>26.0</td>\n",
              "      <td>93</td>\n",
              "      <td>116</td>\n",
              "      <td>91</td>\n",
              "      <td>0.80172</td>\n",
              "    </tr>\n",
              "    <tr>\n",
              "      <th>120.33333</th>\n",
              "      <td>0</td>\n",
              "      <td>43</td>\n",
              "      <td>26.0</td>\n",
              "      <td>92</td>\n",
              "      <td>118</td>\n",
              "      <td>91</td>\n",
              "      <td>0.77966</td>\n",
              "    </tr>\n",
              "    <tr>\n",
              "      <th>120.66667</th>\n",
              "      <td>0</td>\n",
              "      <td>39</td>\n",
              "      <td>24.0</td>\n",
              "      <td>92</td>\n",
              "      <td>121</td>\n",
              "      <td>97</td>\n",
              "      <td>0.76033</td>\n",
              "    </tr>\n",
              "    <tr>\n",
              "      <th>121.00000</th>\n",
              "      <td>0</td>\n",
              "      <td>41</td>\n",
              "      <td>25.0</td>\n",
              "      <td>88</td>\n",
              "      <td>118</td>\n",
              "      <td>93</td>\n",
              "      <td>0.74576</td>\n",
              "    </tr>\n",
              "    <tr>\n",
              "      <th>121.33333</th>\n",
              "      <td>0</td>\n",
              "      <td>42</td>\n",
              "      <td>26.0</td>\n",
              "      <td>100</td>\n",
              "      <td>100</td>\n",
              "      <td>78</td>\n",
              "      <td>1.00000</td>\n",
              "    </tr>\n",
              "    <tr>\n",
              "      <th>...</th>\n",
              "      <td>...</td>\n",
              "      <td>...</td>\n",
              "      <td>...</td>\n",
              "      <td>...</td>\n",
              "      <td>...</td>\n",
              "      <td>...</td>\n",
              "      <td>...</td>\n",
              "    </tr>\n",
              "    <tr>\n",
              "      <th>2192.33333</th>\n",
              "      <td>1</td>\n",
              "      <td>48</td>\n",
              "      <td>26.0</td>\n",
              "      <td>101</td>\n",
              "      <td>66</td>\n",
              "      <td>54</td>\n",
              "      <td>1.53030</td>\n",
              "    </tr>\n",
              "    <tr>\n",
              "      <th>2192.66667</th>\n",
              "      <td>1</td>\n",
              "      <td>42</td>\n",
              "      <td>23.0</td>\n",
              "      <td>104</td>\n",
              "      <td>58</td>\n",
              "      <td>49</td>\n",
              "      <td>1.79310</td>\n",
              "    </tr>\n",
              "    <tr>\n",
              "      <th>2193.00000</th>\n",
              "      <td>1</td>\n",
              "      <td>46</td>\n",
              "      <td>25.0</td>\n",
              "      <td>102</td>\n",
              "      <td>65</td>\n",
              "      <td>54</td>\n",
              "      <td>1.56923</td>\n",
              "    </tr>\n",
              "    <tr>\n",
              "      <th>2193.33333</th>\n",
              "      <td>1</td>\n",
              "      <td>48</td>\n",
              "      <td>26.0</td>\n",
              "      <td>103</td>\n",
              "      <td>70</td>\n",
              "      <td>59</td>\n",
              "      <td>1.47143</td>\n",
              "    </tr>\n",
              "    <tr>\n",
              "      <th>2193.66667</th>\n",
              "      <td>1</td>\n",
              "      <td>52</td>\n",
              "      <td>29.0</td>\n",
              "      <td>104</td>\n",
              "      <td>76</td>\n",
              "      <td>63</td>\n",
              "      <td>1.36842</td>\n",
              "    </tr>\n",
              "  </tbody>\n",
              "</table>\n",
              "<p>39037 rows × 7 columns</p>\n",
              "</div>"
            ],
            "text/plain": [
              "            si1m  SV   SVI   PR  SYS  MAP   PR/SYS\n",
              "time                                              \n",
              "120.00000      0  43  26.0   93  116   91  0.80172\n",
              "120.33333      0  43  26.0   92  118   91  0.77966\n",
              "120.66667      0  39  24.0   92  121   97  0.76033\n",
              "121.00000      0  41  25.0   88  118   93  0.74576\n",
              "121.33333      0  42  26.0  100  100   78  1.00000\n",
              "...          ...  ..   ...  ...  ...  ...      ...\n",
              "2192.33333     1  48  26.0  101   66   54  1.53030\n",
              "2192.66667     1  42  23.0  104   58   49  1.79310\n",
              "2193.00000     1  46  25.0  102   65   54  1.56923\n",
              "2193.33333     1  48  26.0  103   70   59  1.47143\n",
              "2193.66667     1  52  29.0  104   76   63  1.36842\n",
              "\n",
              "[39037 rows x 7 columns]"
            ]
          },
          "execution_count": 8,
          "metadata": {},
          "output_type": "execute_result"
        }
      ],
      "source": [
        "# 進行特徵選取\n",
        "selected_features_df = rounded_df[['si1m', 'SV', 'SVI', 'PR', 'SYS', 'MAP',  'PR/SYS',  'time']]\n",
        "# 將'time'設置為索引\n",
        "selected_features_df .set_index('time', inplace=True)\n",
        "selected_features_df "
      ]
    },
    {
      "cell_type": "code",
      "execution_count": 9,
      "metadata": {},
      "outputs": [
        {
          "name": "stdout",
          "output_type": "stream",
          "text": [
            "si1m\n",
            "0    30482\n",
            "1     8555\n",
            "Name: count, dtype: int64\n"
          ]
        }
      ],
      "source": [
        "# 查看 si1m 變相的數量\n",
        "si1m_counts = selected_features_df[\"si1m\"].value_counts()\n",
        "\n",
        "# 顯示 0 和 1 的數量\n",
        "print(si1m_counts)"
      ]
    },
    {
      "cell_type": "code",
      "execution_count": 10,
      "metadata": {},
      "outputs": [
        {
          "name": "stdout",
          "output_type": "stream",
          "text": [
            "训练集大小：33182\n",
            "测试集大小：5855\n"
          ]
        }
      ],
      "source": [
        "# 参数化测试集占总数据的比例\n",
        "test_ratio = 0.15\n",
        "\n",
        "# 计算测试集大小\n",
        "total_size = len(selected_features_df)\n",
        "test_size = int(total_size * test_ratio)  # 计算测试集大小\n",
        "\n",
        "# 分割索引\n",
        "test_start = total_size - test_size\n",
        "\n",
        "# 分割DataFrame为训练集和测试集\n",
        "train_df = selected_features_df.iloc[:test_start]\n",
        "test_df = selected_features_df.iloc[test_start:]\n",
        "\n",
        "# 检查分割结果\n",
        "print(f\"训练集大小：{len(train_df)}\")\n",
        "print(f\"测试集大小：{len(test_df)}\")\n"
      ]
    },
    {
      "cell_type": "markdown",
      "metadata": {},
      "source": [
        "數據縮放後，將資料轉換為監督學習格式"
      ]
    },
    {
      "cell_type": "code",
      "execution_count": 11,
      "metadata": {},
      "outputs": [],
      "source": [
        "# 使用MinMaxScaler进行缩放\n",
        "scale = MinMaxScaler()\n",
        "columns = train_df.columns\n",
        "\n",
        "df_train_scaled = train_df.copy()\n",
        "df_test_scaled = test_df.copy()\n",
        "# 對訓練集的數值列进行擬合和转换，用相同的scaler避免数据泄露\n",
        "df_train_scaled[columns] = scale.fit_transform(train_df[columns])\n",
        "# 使用相同的scaler参数来转换测试集的数值列\n",
        "df_test_scaled[columns] = scale.transform(test_df[columns])\n",
        "\n",
        "\n"
      ]
    },
    {
      "cell_type": "code",
      "execution_count": 12,
      "metadata": {
        "id": "Ynz99p7BOcJu"
      },
      "outputs": [],
      "source": [
        "#转换DataFrame为Numpy数组\n",
        "data_train = np.array(train_df)\n",
        "data_test = np.array(test_df)\n",
        "#初始化空列表X和y\n",
        "X_train = []\n",
        "y_train = []\n",
        "#定義歷史資料長度和預測長度\n",
        "n_future = 1\n",
        "n_timesteps = 30\n",
        "n_features = 6 # number of sensors\n",
        "n_outputs = 2 # binary states 0 and 1"
      ]
    },
    {
      "cell_type": "code",
      "execution_count": 13,
      "metadata": {},
      "outputs": [],
      "source": [
        "for i in range(n_timesteps , len(data_train) - n_future + 1):\n",
        "    X_train.append(data_train[i - n_timesteps : i, 1:])\n",
        "    y_train.append(data_train[i : i+n_future, 0])\n",
        "    \n",
        "X_train, y_train = np.array(X_train), np.array(y_train)\n"
      ]
    },
    {
      "cell_type": "code",
      "execution_count": 14,
      "metadata": {},
      "outputs": [
        {
          "name": "stdout",
          "output_type": "stream",
          "text": [
            "(33152, 30, 6)\n",
            "(33152, 1)\n"
          ]
        }
      ],
      "source": [
        "print(X_train.shape)\n",
        "print(y_train.shape)\n"
      ]
    },
    {
      "cell_type": "code",
      "execution_count": 15,
      "metadata": {},
      "outputs": [],
      "source": [
        "X_test = []\n",
        "y_test = []\n",
        "for i in range(n_timesteps , len(data_test) - n_future + 1):\n",
        "    X_test.append(data_test[i - n_timesteps : i, 1:])\n",
        "    y_test.append(data_test[i : i+n_future, 0])\n",
        "X_test, y_test = np.array(X_test), np.array(y_test)"
      ]
    },
    {
      "cell_type": "code",
      "execution_count": 16,
      "metadata": {},
      "outputs": [
        {
          "name": "stdout",
          "output_type": "stream",
          "text": [
            "---------------------------train data---------------------------\n",
            "(33152, 30, 6)\n",
            "(33152, 1)\n",
            "---------------------------test data----------------------------\n",
            "(5825, 30, 6)\n",
            "(5825, 1)\n"
          ]
        }
      ],
      "source": [
        "print('train data'.center(64, '-'))\n",
        "print(X_train.shape)\n",
        "print(y_train.shape)\n",
        "\n",
        "print('test data'.center(64, '-'))\n",
        "print(X_test.shape)\n",
        "print(y_test.shape)"
      ]
    },
    {
      "cell_type": "code",
      "execution_count": 17,
      "metadata": {},
      "outputs": [
        {
          "data": {
            "text/plain": [
              "(33152, 2)"
            ]
          },
          "execution_count": 17,
          "metadata": {},
          "output_type": "execute_result"
        }
      ],
      "source": [
        "enc = OneHotEncoder()\n",
        "y_train_oh = enc.fit_transform(y_train).toarray()\n",
        "y_train_oh.shape"
      ]
    },
    {
      "cell_type": "markdown",
      "metadata": {},
      "source": [
        "Bi-lstm模型建立\n"
      ]
    },
    {
      "cell_type": "code",
      "execution_count": 18,
      "metadata": {},
      "outputs": [
        {
          "name": "stderr",
          "output_type": "stream",
          "text": [
            "/Users/apple/Library/Python/3.9/lib/python/site-packages/keras/src/layers/rnn/rnn.py:204: UserWarning: Do not pass an `input_shape`/`input_dim` argument to a layer. When using Sequential models, prefer using an `Input(shape)` object as the first layer in the model instead.\n",
            "  super().__init__(**kwargs)\n"
          ]
        },
        {
          "data": {
            "text/html": [
              "<pre style=\"white-space:pre;overflow-x:auto;line-height:normal;font-family:Menlo,'DejaVu Sans Mono',consolas,'Courier New',monospace\"><span style=\"font-weight: bold\">Model: \"sequential\"</span>\n",
              "</pre>\n"
            ],
            "text/plain": [
              "\u001b[1mModel: \"sequential\"\u001b[0m\n"
            ]
          },
          "metadata": {},
          "output_type": "display_data"
        },
        {
          "data": {
            "text/html": [
              "<pre style=\"white-space:pre;overflow-x:auto;line-height:normal;font-family:Menlo,'DejaVu Sans Mono',consolas,'Courier New',monospace\">┏━━━━━━━━━━━━━━━━━━━━━━━━━━━━━━━━━┳━━━━━━━━━━━━━━━━━━━━━━━━┳━━━━━━━━━━━━━━━┓\n",
              "┃<span style=\"font-weight: bold\"> Layer (type)                    </span>┃<span style=\"font-weight: bold\"> Output Shape           </span>┃<span style=\"font-weight: bold\">       Param # </span>┃\n",
              "┡━━━━━━━━━━━━━━━━━━━━━━━━━━━━━━━━━╇━━━━━━━━━━━━━━━━━━━━━━━━╇━━━━━━━━━━━━━━━┩\n",
              "│ lstm (<span style=\"color: #0087ff; text-decoration-color: #0087ff\">LSTM</span>)                     │ (<span style=\"color: #00d7ff; text-decoration-color: #00d7ff\">None</span>, <span style=\"color: #00af00; text-decoration-color: #00af00\">256</span>)            │       <span style=\"color: #00af00; text-decoration-color: #00af00\">269,312</span> │\n",
              "├─────────────────────────────────┼────────────────────────┼───────────────┤\n",
              "│ dense (<span style=\"color: #0087ff; text-decoration-color: #0087ff\">Dense</span>)                   │ (<span style=\"color: #00d7ff; text-decoration-color: #00d7ff\">None</span>, <span style=\"color: #00af00; text-decoration-color: #00af00\">2</span>)              │           <span style=\"color: #00af00; text-decoration-color: #00af00\">514</span> │\n",
              "└─────────────────────────────────┴────────────────────────┴───────────────┘\n",
              "</pre>\n"
            ],
            "text/plain": [
              "┏━━━━━━━━━━━━━━━━━━━━━━━━━━━━━━━━━┳━━━━━━━━━━━━━━━━━━━━━━━━┳━━━━━━━━━━━━━━━┓\n",
              "┃\u001b[1m \u001b[0m\u001b[1mLayer (type)                   \u001b[0m\u001b[1m \u001b[0m┃\u001b[1m \u001b[0m\u001b[1mOutput Shape          \u001b[0m\u001b[1m \u001b[0m┃\u001b[1m \u001b[0m\u001b[1m      Param #\u001b[0m\u001b[1m \u001b[0m┃\n",
              "┡━━━━━━━━━━━━━━━━━━━━━━━━━━━━━━━━━╇━━━━━━━━━━━━━━━━━━━━━━━━╇━━━━━━━━━━━━━━━┩\n",
              "│ lstm (\u001b[38;5;33mLSTM\u001b[0m)                     │ (\u001b[38;5;45mNone\u001b[0m, \u001b[38;5;34m256\u001b[0m)            │       \u001b[38;5;34m269,312\u001b[0m │\n",
              "├─────────────────────────────────┼────────────────────────┼───────────────┤\n",
              "│ dense (\u001b[38;5;33mDense\u001b[0m)                   │ (\u001b[38;5;45mNone\u001b[0m, \u001b[38;5;34m2\u001b[0m)              │           \u001b[38;5;34m514\u001b[0m │\n",
              "└─────────────────────────────────┴────────────────────────┴───────────────┘\n"
            ]
          },
          "metadata": {},
          "output_type": "display_data"
        },
        {
          "data": {
            "text/html": [
              "<pre style=\"white-space:pre;overflow-x:auto;line-height:normal;font-family:Menlo,'DejaVu Sans Mono',consolas,'Courier New',monospace\"><span style=\"font-weight: bold\"> Total params: </span><span style=\"color: #00af00; text-decoration-color: #00af00\">269,826</span> (1.03 MB)\n",
              "</pre>\n"
            ],
            "text/plain": [
              "\u001b[1m Total params: \u001b[0m\u001b[38;5;34m269,826\u001b[0m (1.03 MB)\n"
            ]
          },
          "metadata": {},
          "output_type": "display_data"
        },
        {
          "data": {
            "text/html": [
              "<pre style=\"white-space:pre;overflow-x:auto;line-height:normal;font-family:Menlo,'DejaVu Sans Mono',consolas,'Courier New',monospace\"><span style=\"font-weight: bold\"> Trainable params: </span><span style=\"color: #00af00; text-decoration-color: #00af00\">269,826</span> (1.03 MB)\n",
              "</pre>\n"
            ],
            "text/plain": [
              "\u001b[1m Trainable params: \u001b[0m\u001b[38;5;34m269,826\u001b[0m (1.03 MB)\n"
            ]
          },
          "metadata": {},
          "output_type": "display_data"
        },
        {
          "data": {
            "text/html": [
              "<pre style=\"white-space:pre;overflow-x:auto;line-height:normal;font-family:Menlo,'DejaVu Sans Mono',consolas,'Courier New',monospace\"><span style=\"font-weight: bold\"> Non-trainable params: </span><span style=\"color: #00af00; text-decoration-color: #00af00\">0</span> (0.00 B)\n",
              "</pre>\n"
            ],
            "text/plain": [
              "\u001b[1m Non-trainable params: \u001b[0m\u001b[38;5;34m0\u001b[0m (0.00 B)\n"
            ]
          },
          "metadata": {},
          "output_type": "display_data"
        }
      ],
      "source": [
        "model = Sequential()\n",
        "model.add(LSTM(256, input_shape=(n_timesteps, n_features)))\n",
        "model.add(Dense(n_outputs, activation='softmax'))\n",
        "\n",
        "model.summary() # reaches 97% and 86%\n",
        "\n"
      ]
    },
    {
      "cell_type": "code",
      "execution_count": 19,
      "metadata": {
        "id": "s0gR7SLTOrO1"
      },
      "outputs": [],
      "source": [
        "model = Sequential()\n",
        "model.add(\n",
        "    Bidirectional(\n",
        "      LSTM(\n",
        "          units=128,\n",
        "          input_shape=[n_timesteps, n_features]\n",
        "      )\n",
        "    )\n",
        ")\n",
        "model.add(Dropout(rate=0.5))\n",
        "model.add(Dense(units=128, activation='relu'))\n",
        "model.add(Dense(n_outputs, activation='softmax'))\n"
      ]
    },
    {
      "cell_type": "code",
      "execution_count": 20,
      "metadata": {},
      "outputs": [
        {
          "name": "stdout",
          "output_type": "stream",
          "text": [
            "Epoch 1/50\n",
            "\u001b[1m415/415\u001b[0m \u001b[32m━━━━━━━━━━━━━━━━━━━━\u001b[0m\u001b[37m\u001b[0m \u001b[1m13s\u001b[0m 29ms/step - accuracy: 0.8647 - loss: 0.3179 - val_accuracy: 0.9888 - val_loss: 0.0690 - learning_rate: 0.0010\n",
            "Epoch 2/50\n",
            "\u001b[1m415/415\u001b[0m \u001b[32m━━━━━━━━━━━━━━━━━━━━\u001b[0m\u001b[37m\u001b[0m \u001b[1m12s\u001b[0m 29ms/step - accuracy: 0.8847 - loss: 0.2827 - val_accuracy: 0.9888 - val_loss: 0.0644 - learning_rate: 0.0010\n",
            "Epoch 3/50\n",
            "\u001b[1m415/415\u001b[0m \u001b[32m━━━━━━━━━━━━━━━━━━━━\u001b[0m\u001b[37m\u001b[0m \u001b[1m12s\u001b[0m 28ms/step - accuracy: 0.8890 - loss: 0.2726 - val_accuracy: 0.9888 - val_loss: 0.0659 - learning_rate: 0.0010\n",
            "Epoch 4/50\n",
            "\u001b[1m415/415\u001b[0m \u001b[32m━━━━━━━━━━━━━━━━━━━━\u001b[0m\u001b[37m\u001b[0m \u001b[1m12s\u001b[0m 30ms/step - accuracy: 0.8884 - loss: 0.2674 - val_accuracy: 0.9888 - val_loss: 0.0571 - learning_rate: 0.0010\n",
            "Epoch 5/50\n",
            "\u001b[1m415/415\u001b[0m \u001b[32m━━━━━━━━━━━━━━━━━━━━\u001b[0m\u001b[37m\u001b[0m \u001b[1m13s\u001b[0m 32ms/step - accuracy: 0.8883 - loss: 0.2690 - val_accuracy: 0.9888 - val_loss: 0.0595 - learning_rate: 0.0010\n",
            "Epoch 6/50\n",
            "\u001b[1m415/415\u001b[0m \u001b[32m━━━━━━━━━━━━━━━━━━━━\u001b[0m\u001b[37m\u001b[0m \u001b[1m13s\u001b[0m 32ms/step - accuracy: 0.8890 - loss: 0.2676 - val_accuracy: 0.9863 - val_loss: 0.0858 - learning_rate: 0.0010\n",
            "Epoch 7/50\n",
            "\u001b[1m415/415\u001b[0m \u001b[32m━━━━━━━━━━━━━━━━━━━━\u001b[0m\u001b[37m\u001b[0m \u001b[1m14s\u001b[0m 34ms/step - accuracy: 0.8903 - loss: 0.2670 - val_accuracy: 0.9888 - val_loss: 0.0611 - learning_rate: 0.0010\n",
            "Epoch 8/50\n",
            "\u001b[1m415/415\u001b[0m \u001b[32m━━━━━━━━━━━━━━━━━━━━\u001b[0m\u001b[37m\u001b[0m \u001b[1m13s\u001b[0m 31ms/step - accuracy: 0.8954 - loss: 0.2612 - val_accuracy: 0.9888 - val_loss: 0.0643 - learning_rate: 0.0010\n",
            "Epoch 9/50\n",
            "\u001b[1m415/415\u001b[0m \u001b[32m━━━━━━━━━━━━━━━━━━━━\u001b[0m\u001b[37m\u001b[0m \u001b[1m13s\u001b[0m 30ms/step - accuracy: 0.8929 - loss: 0.2601 - val_accuracy: 0.9888 - val_loss: 0.0720 - learning_rate: 0.0010\n",
            "Epoch 10/50\n",
            "\u001b[1m415/415\u001b[0m \u001b[32m━━━━━━━━━━━━━━━━━━━━\u001b[0m\u001b[37m\u001b[0m \u001b[1m14s\u001b[0m 33ms/step - accuracy: 0.8972 - loss: 0.2511 - val_accuracy: 0.9888 - val_loss: 0.0655 - learning_rate: 0.0010\n",
            "Epoch 11/50\n",
            "\u001b[1m415/415\u001b[0m \u001b[32m━━━━━━━━━━━━━━━━━━━━\u001b[0m\u001b[37m\u001b[0m \u001b[1m14s\u001b[0m 33ms/step - accuracy: 0.9007 - loss: 0.2487 - val_accuracy: 0.9888 - val_loss: 0.0671 - learning_rate: 0.0010\n",
            "Epoch 12/50\n",
            "\u001b[1m415/415\u001b[0m \u001b[32m━━━━━━━━━━━━━━━━━━━━\u001b[0m\u001b[37m\u001b[0m \u001b[1m13s\u001b[0m 32ms/step - accuracy: 0.8999 - loss: 0.2532 - val_accuracy: 0.9887 - val_loss: 0.0731 - learning_rate: 0.0010\n",
            "Epoch 13/50\n",
            "\u001b[1m415/415\u001b[0m \u001b[32m━━━━━━━━━━━━━━━━━━━━\u001b[0m\u001b[37m\u001b[0m \u001b[1m13s\u001b[0m 32ms/step - accuracy: 0.9014 - loss: 0.2555 - val_accuracy: 0.9888 - val_loss: 0.0770 - learning_rate: 0.0010\n",
            "Epoch 14/50\n",
            "\u001b[1m415/415\u001b[0m \u001b[32m━━━━━━━━━━━━━━━━━━━━\u001b[0m\u001b[37m\u001b[0m \u001b[1m13s\u001b[0m 32ms/step - accuracy: 0.8978 - loss: 0.2550 - val_accuracy: 0.9888 - val_loss: 0.0616 - learning_rate: 0.0010\n",
            "Epoch 15/50\n",
            "\u001b[1m415/415\u001b[0m \u001b[32m━━━━━━━━━━━━━━━━━━━━\u001b[0m\u001b[37m\u001b[0m \u001b[1m14s\u001b[0m 33ms/step - accuracy: 0.9042 - loss: 0.2494 - val_accuracy: 0.9887 - val_loss: 0.0794 - learning_rate: 0.0010\n",
            "Epoch 16/50\n",
            "\u001b[1m415/415\u001b[0m \u001b[32m━━━━━━━━━━━━━━━━━━━━\u001b[0m\u001b[37m\u001b[0m \u001b[1m14s\u001b[0m 34ms/step - accuracy: 0.9097 - loss: 0.2401 - val_accuracy: 0.9888 - val_loss: 0.0710 - learning_rate: 0.0010\n",
            "Epoch 17/50\n",
            "\u001b[1m415/415\u001b[0m \u001b[32m━━━━━━━━━━━━━━━━━━━━\u001b[0m\u001b[37m\u001b[0m \u001b[1m15s\u001b[0m 35ms/step - accuracy: 0.9085 - loss: 0.2411 - val_accuracy: 0.9888 - val_loss: 0.0673 - learning_rate: 0.0010\n",
            "Epoch 18/50\n",
            "\u001b[1m415/415\u001b[0m \u001b[32m━━━━━━━━━━━━━━━━━━━━\u001b[0m\u001b[37m\u001b[0m \u001b[1m14s\u001b[0m 34ms/step - accuracy: 0.9088 - loss: 0.2406 - val_accuracy: 0.9885 - val_loss: 0.0654 - learning_rate: 0.0010\n",
            "Epoch 19/50\n",
            "\u001b[1m415/415\u001b[0m \u001b[32m━━━━━━━━━━━━━━━━━━━━\u001b[0m\u001b[37m\u001b[0m \u001b[1m14s\u001b[0m 34ms/step - accuracy: 0.9068 - loss: 0.2446 - val_accuracy: 0.9878 - val_loss: 0.0843 - learning_rate: 0.0010\n",
            "Epoch 19: early stopping\n"
          ]
        }
      ],
      "source": [
        "epochs = 50\n",
        "batch_size = 64\n",
        "\n",
        "callbacks = [\n",
        "    ReduceLROnPlateau(\n",
        "        monitor=\"val_loss\", factor=0.5, patience=15, min_lr=0.0001\n",
        "    ),\n",
        "    EarlyStopping(monitor=\"val_loss\", patience=15, verbose=1),\n",
        "]\n",
        "model.compile(\n",
        "    optimizer=\"adam\",\n",
        "    loss=BinaryCrossentropy(),\n",
        "    metrics=[\"accuracy\"],\n",
        ")\n",
        "history = model.fit(\n",
        "    X_train,\n",
        "    y_train_oh,\n",
        "    batch_size=batch_size,\n",
        "    epochs=epochs,\n",
        "    callbacks=callbacks,\n",
        "    validation_split=0.2,\n",
        "    verbose=1,\n",
        ")\n",
        "\n"
      ]
    },
    {
      "cell_type": "code",
      "execution_count": 21,
      "metadata": {},
      "outputs": [
        {
          "data": {
            "image/png": "[encoded data removed]",
            "text/plain": [
              "<Figure size 1400x500 with 2 Axes>"
            ]
          },
          "metadata": {},
          "output_type": "display_data"
        }
      ],
      "source": [
        "import matplotlib.pyplot as plt\n",
        "\n",
        "# 绘制损失曲线\n",
        "plt.figure(figsize=(14, 5))\n",
        "plt.subplot(1, 2, 1)\n",
        "plt.plot(history.history['loss'], label='Training Loss')\n",
        "plt.plot(history.history['val_loss'], label='Validation Loss')\n",
        "plt.title('Training and Validation Loss')\n",
        "plt.xlabel('Epoch')\n",
        "plt.ylabel('Loss')\n",
        "plt.legend()\n",
        "\n",
        "# 绘制准确率曲线\n",
        "plt.subplot(1, 2, 2)\n",
        "plt.plot(history.history['accuracy'], label='Training Accuracy')\n",
        "plt.plot(history.history['val_accuracy'], label='Validation Accuracy')\n",
        "plt.title('Training and Validation Accuracy')\n",
        "plt.xlabel('Epoch')\n",
        "plt.ylabel('Accuracy')\n",
        "plt.legend()\n",
        "\n",
        "plt.show()\n"
      ]
    },
    {
      "cell_type": "code",
      "execution_count": 22,
      "metadata": {},
      "outputs": [
        {
          "name": "stdout",
          "output_type": "stream",
          "text": [
            "\u001b[1m1036/1036\u001b[0m \u001b[32m━━━━━━━━━━━━━━━━━━━━\u001b[0m\u001b[37m\u001b[0m \u001b[1m7s\u001b[0m 7ms/step\n",
            "y_train (Class 0): 28148\n",
            "y_train (Class 1): 5004\n"
          ]
        }
      ],
      "source": [
        "###查看訓練集預測結果\n",
        "from sklearn.model_selection import train_test_split\n",
        "y_pred_proba = model.predict(X_train)\n",
        "y_pred = np.argmax(y_pred_proba, axis=1)\n",
        "unique, counts = np.unique(y_pred, return_counts=True)\n",
        "class_counts = dict(zip(unique, counts))\n",
        "print(\"y_train (Class 0):\", class_counts.get(0, 0))  # 获取类别0的数量，如果没有则返回0\n",
        "print(\"y_train (Class 1):\", class_counts.get(1, 0))  # 获取类别1的数量，如果没有则返回0\n"
      ]
    },
    {
      "cell_type": "code",
      "execution_count": 23,
      "metadata": {},
      "outputs": [
        {
          "name": "stdout",
          "output_type": "stream",
          "text": [
            "\u001b[1m1036/1036\u001b[0m \u001b[32m━━━━━━━━━━━━━━━━━━━━\u001b[0m\u001b[37m\u001b[0m \u001b[1m7s\u001b[0m 7ms/step\n"
          ]
        },
        {
          "data": {
            "text/plain": [
              "(33152, 1)"
            ]
          },
          "execution_count": 23,
          "metadata": {},
          "output_type": "execute_result"
        }
      ],
      "source": [
        "y_pred_train = np.array(np.argmax(model.predict(X_train), axis=1))[...,np.newaxis]\n",
        "y_pred_train.shape"
      ]
    },
    {
      "cell_type": "code",
      "execution_count": 24,
      "metadata": {},
      "outputs": [
        {
          "name": "stdout",
          "output_type": "stream",
          "text": [
            "Accuracy on train set: 92.94%\n"
          ]
        }
      ],
      "source": [
        "from sklearn.metrics import accuracy_score\n",
        "train_accuracy = accuracy_score(y_train, y_pred_train)\n",
        "print(f\"Accuracy on train set: {train_accuracy * 100:.2f}%\")\n"
      ]
    },
    {
      "cell_type": "code",
      "execution_count": 25,
      "metadata": {},
      "outputs": [
        {
          "name": "stdout",
          "output_type": "stream",
          "text": [
            "\u001b[1m1036/1036\u001b[0m \u001b[32m━━━━━━━━━━━━━━━━━━━━\u001b[0m\u001b[37m\u001b[0m \u001b[1m6s\u001b[0m 6ms/step\n",
            "\u001b[1m208/208\u001b[0m \u001b[32m━━━━━━━━━━━━━━━━━━━━\u001b[0m\u001b[37m\u001b[0m \u001b[1m2s\u001b[0m 7ms/step\n",
            "y_val (Class 0): 5628\n",
            "y_val (Class 1): 1003\n"
          ]
        }
      ],
      "source": [
        "#####查看驗證集訓練結果\n",
        "y_pred_train = np.array(np.argmax(model.predict(X_train), axis=1))[...,np.newaxis]\n",
        "y_pred_train.shape\n",
        "# 假设 X_train 和 y_train_oh 是原始的训练数据和标签\n",
        "# 重新分割数据以创建与训练时相同的训练集和验证集\n",
        "X_train_part, X_val, y_train_part, y_val = train_test_split(\n",
        "    X_train, y_train_oh, test_size=0.2  \n",
        ")\n",
        "\n",
        "# 使用模型对验证集进行预测\n",
        "y_pred_proba_val = model.predict(X_val)\n",
        "y_pred_val = np.argmax(y_pred_proba_val, axis=1)\n",
        "\n",
        "# 计算每个类别的数量\n",
        "unique_val, counts_val = np.unique(y_pred_val, return_counts=True)\n",
        "class_counts_val = dict(zip(unique_val, counts_val))\n",
        "\n",
        "# 打印每个类别的计数\n",
        "print(\"y_val (Class 0):\", class_counts_val.get(0, 0))  # 获取类别0的数量，如果没有则返回0\n",
        "print(\"y_val (Class 1):\", class_counts_val.get(1, 0))  # 获取类别1的数量，如果没有则返回0\n"
      ]
    },
    {
      "cell_type": "code",
      "execution_count": 26,
      "metadata": {},
      "outputs": [
        {
          "name": "stdout",
          "output_type": "stream",
          "text": [
            "Validation Accuracy: 98.88%\n"
          ]
        }
      ],
      "source": [
        "# 从 history 对象中获取验证集上的准确度历史\n",
        "val_accuracy = history.history['val_accuracy']\n",
        "print(f\"Validation Accuracy: {max(val_accuracy) * 100:.2f}%\")\n"
      ]
    },
    {
      "cell_type": "code",
      "execution_count": 27,
      "metadata": {},
      "outputs": [
        {
          "name": "stdout",
          "output_type": "stream",
          "text": [
            "\u001b[1m183/183\u001b[0m \u001b[32m━━━━━━━━━━━━━━━━━━━━\u001b[0m\u001b[37m\u001b[0m \u001b[1m1s\u001b[0m 6ms/step\n",
            "y_test (Class 0): 3451\n",
            "y_test (Class 1): 2374\n"
          ]
        }
      ],
      "source": [
        "y_pred_proba = model.predict(X_test)\n",
        "y_pred = np.argmax(y_pred_proba, axis=1)\n",
        "unique, counts = np.unique(y_pred, return_counts=True)\n",
        "class_counts = dict(zip(unique, counts))\n",
        "print(\"y_test (Class 0):\", class_counts.get(0, 0))  # 获取类别0的数量，如果没有则返回0\n",
        "print(\"y_test (Class 1):\", class_counts.get(1, 0))  # 获取类别1的数量，如果没有则返回0\n"
      ]
    },
    {
      "cell_type": "code",
      "execution_count": 28,
      "metadata": {},
      "outputs": [
        {
          "name": "stdout",
          "output_type": "stream",
          "text": [
            "\u001b[1m183/183\u001b[0m \u001b[32m━━━━━━━━━━━━━━━━━━━━\u001b[0m\u001b[37m\u001b[0m \u001b[1m1s\u001b[0m 6ms/step\n"
          ]
        },
        {
          "data": {
            "text/plain": [
              "(5825, 1)"
            ]
          },
          "execution_count": 28,
          "metadata": {},
          "output_type": "execute_result"
        }
      ],
      "source": [
        "y_pred_test = np.array(np.argmax(model.predict(X_test), axis=1))[...,np.newaxis]\n",
        "y_pred_test.shape"
      ]
    },
    {
      "cell_type": "code",
      "execution_count": 29,
      "metadata": {},
      "outputs": [
        {
          "name": "stdout",
          "output_type": "stream",
          "text": [
            "Accuracy on train set: 76.17%\n"
          ]
        }
      ],
      "source": [
        "test_accuracy = accuracy_score(y_test, y_pred_test)\n",
        "print(f\"Accuracy on train set: {test_accuracy * 100:.2f}%\")\n",
        "#epoch16 = test_accuracy 75.95% , epoch22 = test_accuracy 75.95%  epoch19= test_accuracy 76.71%"
      ]
    }
  ],
  "metadata": {
    "accelerator": "GPU",
    "colab": {
      "gpuType": "T4",
      "provenance": []
    },
    "kernelspec": {
      "display_name": "Python 3",
      "name": "python3"
    },
    "language_info": {
      "codemirror_mode": {
        "name": "ipython",
        "version": 3
      },
      "file_extension": ".py",
      "mimetype": "text/x-python",
      "name": "python",
      "nbconvert_exporter": "python",
      "pygments_lexer": "ipython3",
      "version": "3.9.6"
    }
  },
  "nbformat": 4,
  "nbformat_minor": 0
}
