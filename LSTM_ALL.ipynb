{
  "cells": [
    {
      "cell_type": "code",
      "execution_count": 1,
      "metadata": {},
      "outputs": [],
      "source": [
        "# This Python 3 environment comes with many helpful analytics libraries installed\n",
        "# For example, here's several helpful packages to load\n",
        "\n",
        "import numpy as np # linear algebra\n",
        "import pandas as pd # data processing, CSV file I/O (e.g. pd.read_csv)\n",
        "import seaborn as sns\n",
        "import matplotlib.pyplot as plt\n",
        "import scipy.stats as stats\n",
        "# 設定 seaborn 主題，這會影響圖表的風格和顏色\n",
        "sns.set_theme()  # Apply the default Seaborn theme\n",
        "%matplotlib inline\n",
        "# Libraries for statistical and scientific computing\n",
        "import statsmodels.api as sm\n",
        "from scipy import stats\n",
        "from pytorch_lightning.callbacks import EarlyStopping, Callback, ModelCheckpoint\n",
        "from sklearn.preprocessing import MinMaxScaler, StandardScaler"
      ]
    },
    {
      "cell_type": "code",
      "execution_count": 2,
      "metadata": {
        "colab": {
          "base_uri": "https://localhost:8080/",
          "height": 206
        },
        "id": "B4tF1dV9orsZ",
        "outputId": "c04d0d40-03c3-4eaa-d0c0-005b87bc668f"
      },
      "outputs": [
        {
          "data": {
            "text/html": [
              "<div>\n",
              "<style scoped>\n",
              "    .dataframe tbody tr th:only-of-type {\n",
              "        vertical-align: middle;\n",
              "    }\n",
              "\n",
              "    .dataframe tbody tr th {\n",
              "        vertical-align: top;\n",
              "    }\n",
              "\n",
              "    .dataframe thead th {\n",
              "        text-align: right;\n",
              "    }\n",
              "</style>\n",
              "<table border=\"1\" class=\"dataframe\">\n",
              "  <thead>\n",
              "    <tr style=\"text-align: right;\">\n",
              "      <th></th>\n",
              "      <th>si1m</th>\n",
              "      <th>CO</th>\n",
              "      <th>CI</th>\n",
              "      <th>SV</th>\n",
              "      <th>SVI</th>\n",
              "      <th>SVV</th>\n",
              "      <th>SVR</th>\n",
              "      <th>SVRI</th>\n",
              "      <th>PR</th>\n",
              "      <th>SYS</th>\n",
              "      <th>DIA</th>\n",
              "      <th>MAP</th>\n",
              "      <th>ID</th>\n",
              "      <th>time</th>\n",
              "    </tr>\n",
              "  </thead>\n",
              "  <tbody>\n",
              "    <tr>\n",
              "      <th>0</th>\n",
              "      <td>N</td>\n",
              "      <td>4.0</td>\n",
              "      <td>2.4</td>\n",
              "      <td>43</td>\n",
              "      <td>26.0</td>\n",
              "      <td>10</td>\n",
              "      <td>1673.0</td>\n",
              "      <td>2745.0</td>\n",
              "      <td>93</td>\n",
              "      <td>116</td>\n",
              "      <td>74</td>\n",
              "      <td>91</td>\n",
              "      <td>#_1</td>\n",
              "      <td>120.000000</td>\n",
              "    </tr>\n",
              "    <tr>\n",
              "      <th>1</th>\n",
              "      <td>N</td>\n",
              "      <td>4.0</td>\n",
              "      <td>2.4</td>\n",
              "      <td>43</td>\n",
              "      <td>26.0</td>\n",
              "      <td>10</td>\n",
              "      <td>1683.0</td>\n",
              "      <td>2760.0</td>\n",
              "      <td>92</td>\n",
              "      <td>118</td>\n",
              "      <td>74</td>\n",
              "      <td>91</td>\n",
              "      <td>#_1</td>\n",
              "      <td>120.333333</td>\n",
              "    </tr>\n",
              "    <tr>\n",
              "      <th>2</th>\n",
              "      <td>N</td>\n",
              "      <td>3.6</td>\n",
              "      <td>2.2</td>\n",
              "      <td>39</td>\n",
              "      <td>24.0</td>\n",
              "      <td>17</td>\n",
              "      <td>1978.0</td>\n",
              "      <td>3245.0</td>\n",
              "      <td>92</td>\n",
              "      <td>121</td>\n",
              "      <td>80</td>\n",
              "      <td>97</td>\n",
              "      <td>#_1</td>\n",
              "      <td>120.666667</td>\n",
              "    </tr>\n",
              "    <tr>\n",
              "      <th>3</th>\n",
              "      <td>N</td>\n",
              "      <td>3.6</td>\n",
              "      <td>2.2</td>\n",
              "      <td>41</td>\n",
              "      <td>25.0</td>\n",
              "      <td>17</td>\n",
              "      <td>1868.0</td>\n",
              "      <td>3065.0</td>\n",
              "      <td>88</td>\n",
              "      <td>118</td>\n",
              "      <td>76</td>\n",
              "      <td>93</td>\n",
              "      <td>#_1</td>\n",
              "      <td>121.000000</td>\n",
              "    </tr>\n",
              "    <tr>\n",
              "      <th>4</th>\n",
              "      <td>N</td>\n",
              "      <td>4.2</td>\n",
              "      <td>2.6</td>\n",
              "      <td>42</td>\n",
              "      <td>26.0</td>\n",
              "      <td>10</td>\n",
              "      <td>1335.0</td>\n",
              "      <td>2190.0</td>\n",
              "      <td>100</td>\n",
              "      <td>100</td>\n",
              "      <td>66</td>\n",
              "      <td>78</td>\n",
              "      <td>#_1</td>\n",
              "      <td>121.333333</td>\n",
              "    </tr>\n",
              "  </tbody>\n",
              "</table>\n",
              "</div>"
            ],
            "text/plain": [
              "  si1m   CO   CI  SV   SVI  SVV     SVR    SVRI   PR  SYS  DIA  MAP   ID  \\\n",
              "0    N  4.0  2.4  43  26.0   10  1673.0  2745.0   93  116   74   91  #_1   \n",
              "1    N  4.0  2.4  43  26.0   10  1683.0  2760.0   92  118   74   91  #_1   \n",
              "2    N  3.6  2.2  39  24.0   17  1978.0  3245.0   92  121   80   97  #_1   \n",
              "3    N  3.6  2.2  41  25.0   17  1868.0  3065.0   88  118   76   93  #_1   \n",
              "4    N  4.2  2.6  42  26.0   10  1335.0  2190.0  100  100   66   78  #_1   \n",
              "\n",
              "         time  \n",
              "0  120.000000  \n",
              "1  120.333333  \n",
              "2  120.666667  \n",
              "3  121.000000  \n",
              "4  121.333333  "
            ]
          },
          "execution_count": 2,
          "metadata": {},
          "output_type": "execute_result"
        }
      ],
      "source": [
        "# 使用pandas讀取CSV文件\n",
        "df = pd.read_csv('https://raw.githubusercontent.com/xc90529/noninvasive_data_visualization/main/noninvasive_data.csv')\n",
        "\n",
        "# To display the top 5 rows\n",
        "df.head(5)\n",
        "#CO-心輸出量\n",
        "#CI - 心輸出指數\n",
        "#SV - 舒張容積\n",
        "#SVI - 舒張容積指數\n",
        "#SVV - 舒張容積變異度\n",
        "#SVR - 舒張容積阻力\n",
        "#SVRI - 舒張容積指數阻力\n",
        "#PR - 脈搏率\n",
        "#SYS - 收縮壓\n",
        "#DIA - 舒張壓\n",
        "#MAP - 平均動脈壓"
      ]
    },
    {
      "cell_type": "code",
      "execution_count": 3,
      "metadata": {
        "colab": {
          "base_uri": "https://localhost:8080/",
          "height": 206
        },
        "id": "RZJDKiWwchHF",
        "outputId": "dd655060-adc7-4f6d-9373-28df38db0b40"
      },
      "outputs": [
        {
          "data": {
            "text/html": [
              "<div>\n",
              "<style scoped>\n",
              "    .dataframe tbody tr th:only-of-type {\n",
              "        vertical-align: middle;\n",
              "    }\n",
              "\n",
              "    .dataframe tbody tr th {\n",
              "        vertical-align: top;\n",
              "    }\n",
              "\n",
              "    .dataframe thead th {\n",
              "        text-align: right;\n",
              "    }\n",
              "</style>\n",
              "<table border=\"1\" class=\"dataframe\">\n",
              "  <thead>\n",
              "    <tr style=\"text-align: right;\">\n",
              "      <th></th>\n",
              "      <th>si1m</th>\n",
              "      <th>CO</th>\n",
              "      <th>CI</th>\n",
              "      <th>SV</th>\n",
              "      <th>SVI</th>\n",
              "      <th>SVV</th>\n",
              "      <th>SVR</th>\n",
              "      <th>SVRI</th>\n",
              "      <th>PR</th>\n",
              "      <th>SYS</th>\n",
              "      <th>DIA</th>\n",
              "      <th>MAP</th>\n",
              "      <th>ID</th>\n",
              "      <th>time</th>\n",
              "      <th>PR/SYS</th>\n",
              "    </tr>\n",
              "  </thead>\n",
              "  <tbody>\n",
              "    <tr>\n",
              "      <th>0</th>\n",
              "      <td>N</td>\n",
              "      <td>4.0</td>\n",
              "      <td>2.4</td>\n",
              "      <td>43</td>\n",
              "      <td>26.0</td>\n",
              "      <td>10</td>\n",
              "      <td>1673.0</td>\n",
              "      <td>2745.0</td>\n",
              "      <td>93</td>\n",
              "      <td>116</td>\n",
              "      <td>74</td>\n",
              "      <td>91</td>\n",
              "      <td>#_1</td>\n",
              "      <td>120.000000</td>\n",
              "      <td>0.801724</td>\n",
              "    </tr>\n",
              "    <tr>\n",
              "      <th>1</th>\n",
              "      <td>N</td>\n",
              "      <td>4.0</td>\n",
              "      <td>2.4</td>\n",
              "      <td>43</td>\n",
              "      <td>26.0</td>\n",
              "      <td>10</td>\n",
              "      <td>1683.0</td>\n",
              "      <td>2760.0</td>\n",
              "      <td>92</td>\n",
              "      <td>118</td>\n",
              "      <td>74</td>\n",
              "      <td>91</td>\n",
              "      <td>#_1</td>\n",
              "      <td>120.333333</td>\n",
              "      <td>0.779661</td>\n",
              "    </tr>\n",
              "    <tr>\n",
              "      <th>2</th>\n",
              "      <td>N</td>\n",
              "      <td>3.6</td>\n",
              "      <td>2.2</td>\n",
              "      <td>39</td>\n",
              "      <td>24.0</td>\n",
              "      <td>17</td>\n",
              "      <td>1978.0</td>\n",
              "      <td>3245.0</td>\n",
              "      <td>92</td>\n",
              "      <td>121</td>\n",
              "      <td>80</td>\n",
              "      <td>97</td>\n",
              "      <td>#_1</td>\n",
              "      <td>120.666667</td>\n",
              "      <td>0.760331</td>\n",
              "    </tr>\n",
              "    <tr>\n",
              "      <th>3</th>\n",
              "      <td>N</td>\n",
              "      <td>3.6</td>\n",
              "      <td>2.2</td>\n",
              "      <td>41</td>\n",
              "      <td>25.0</td>\n",
              "      <td>17</td>\n",
              "      <td>1868.0</td>\n",
              "      <td>3065.0</td>\n",
              "      <td>88</td>\n",
              "      <td>118</td>\n",
              "      <td>76</td>\n",
              "      <td>93</td>\n",
              "      <td>#_1</td>\n",
              "      <td>121.000000</td>\n",
              "      <td>0.745763</td>\n",
              "    </tr>\n",
              "    <tr>\n",
              "      <th>4</th>\n",
              "      <td>N</td>\n",
              "      <td>4.2</td>\n",
              "      <td>2.6</td>\n",
              "      <td>42</td>\n",
              "      <td>26.0</td>\n",
              "      <td>10</td>\n",
              "      <td>1335.0</td>\n",
              "      <td>2190.0</td>\n",
              "      <td>100</td>\n",
              "      <td>100</td>\n",
              "      <td>66</td>\n",
              "      <td>78</td>\n",
              "      <td>#_1</td>\n",
              "      <td>121.333333</td>\n",
              "      <td>1.000000</td>\n",
              "    </tr>\n",
              "  </tbody>\n",
              "</table>\n",
              "</div>"
            ],
            "text/plain": [
              "  si1m   CO   CI  SV   SVI  SVV     SVR    SVRI   PR  SYS  DIA  MAP   ID  \\\n",
              "0    N  4.0  2.4  43  26.0   10  1673.0  2745.0   93  116   74   91  #_1   \n",
              "1    N  4.0  2.4  43  26.0   10  1683.0  2760.0   92  118   74   91  #_1   \n",
              "2    N  3.6  2.2  39  24.0   17  1978.0  3245.0   92  121   80   97  #_1   \n",
              "3    N  3.6  2.2  41  25.0   17  1868.0  3065.0   88  118   76   93  #_1   \n",
              "4    N  4.2  2.6  42  26.0   10  1335.0  2190.0  100  100   66   78  #_1   \n",
              "\n",
              "         time    PR/SYS  \n",
              "0  120.000000  0.801724  \n",
              "1  120.333333  0.779661  \n",
              "2  120.666667  0.760331  \n",
              "3  121.000000  0.745763  \n",
              "4  121.333333  1.000000  "
            ]
          },
          "execution_count": 3,
          "metadata": {},
          "output_type": "execute_result"
        }
      ],
      "source": [
        "# Calculating the Shock Index as PR / SYS\n",
        "df['PR/SYS'] = df['PR'] / df['SYS']\n",
        "\n",
        "# Displaying the first few rows of the dataframe to confirm the new variable\n",
        "df.head()"
      ]
    },
    {
      "cell_type": "code",
      "execution_count": 4,
      "metadata": {
        "colab": {
          "base_uri": "https://localhost:8080/"
        },
        "id": "dg_w4wovSsD3",
        "outputId": "2ca666c2-5b98-4ce1-c385-7be46f69d027"
      },
      "outputs": [
        {
          "name": "stdout",
          "output_type": "stream",
          "text": [
            "Duplicate rows:\n",
            "      si1m   CO        CI  SV        SVI  SVV     SVR         SVRI   PR  SYS  \\\n",
            "17619    N  3.1  1.962025  49  31.012658   18  1558.0   986.075949   64   97   \n",
            "17620    N  3.1  1.962025  49  31.012658   18  1558.0   986.075949   64   97   \n",
            "17621    Y  2.9  1.835443  46  29.113924   17  1643.0  1039.873418   63   94   \n",
            "17622    N  2.9  1.835443  46  29.113924   17  1643.0  1039.873418   63   94   \n",
            "17623    Y  2.8  1.772152  45  28.481013   18  1878.0  1188.607595   62  101   \n",
            "...    ...  ...       ...  ..        ...  ...     ...          ...  ...  ...   \n",
            "35911    N  3.1  2.300000  27  20.000000   16  2038.0  2790.000000  116  101   \n",
            "35912    Y  3.1  2.200000  27  20.000000   16  2045.0  2800.000000  112  101   \n",
            "35913    N  3.1  2.200000  27  20.000000   16  2045.0  2800.000000  112  101   \n",
            "35914    Y  2.9  2.100000  29  21.000000   13  2150.0  2945.000000  102  101   \n",
            "35915    N  2.9  2.100000  29  21.000000   13  2150.0  2945.000000  102  101   \n",
            "\n",
            "       DIA  MAP    ID         time    PR/SYS  \n",
            "17619   54   69  #_14  1440.000000  0.659794  \n",
            "17620   54   69  #_14  1440.000000  0.659794  \n",
            "17621   54   68  #_14  1440.333333  0.670213  \n",
            "17622   54   68  #_14  1440.333333  0.670213  \n",
            "17623   58   73  #_14  1440.666667  0.613861  \n",
            "...    ...  ...   ...          ...       ...  \n",
            "35911   79   87  #_21  1530.333333  1.148515  \n",
            "35912   78   87  #_21  1530.666667  1.108911  \n",
            "35913   78   87  #_21  1530.666667  1.108911  \n",
            "35914   77   86  #_21  1531.000000  1.009901  \n",
            "35915   77   86  #_21  1531.000000  1.009901  \n",
            "\n",
            "[752 rows x 15 columns]\n",
            "重复行的数量： 376\n",
            "重复行：\n",
            "      si1m   CO        CI  SV        SVI  SVV     SVR         SVRI   PR  SYS  \\\n",
            "17620    N  3.1  1.962025  49  31.012658   18  1558.0   986.075949   64   97   \n",
            "17622    N  2.9  1.835443  46  29.113924   17  1643.0  1039.873418   63   94   \n",
            "17624    N  2.8  1.772152  45  28.481013   18  1878.0  1188.607595   62  101   \n",
            "17626    N  2.8  1.772152  47  29.746835   19  1725.0  1091.772152   61   95   \n",
            "17628    N  2.7  1.708861  46  29.113924    9  1825.0  1155.063291   60   95   \n",
            "...    ...  ...       ...  ..        ...  ...     ...          ...  ...  ...   \n",
            "35906    N  3.0  2.200000  29  21.000000   10  2108.0  2885.000000  104  101   \n",
            "35908    Y  2.8  2.100000  27  20.000000   10  2285.0  3130.000000  104  102   \n",
            "35911    N  3.1  2.300000  27  20.000000   16  2038.0  2790.000000  116  101   \n",
            "35913    N  3.1  2.200000  27  20.000000   16  2045.0  2800.000000  112  101   \n",
            "35915    N  2.9  2.100000  29  21.000000   13  2150.0  2945.000000  102  101   \n",
            "\n",
            "       DIA  MAP    ID         time    PR/SYS  \n",
            "17620   54   69  #_14  1440.000000  0.659794  \n",
            "17622   54   68  #_14  1440.333333  0.670213  \n",
            "17624   58   73  #_14  1440.666667  0.613861  \n",
            "17626   54   69  #_14  1441.000000  0.642105  \n",
            "17628   55   70  #_14  1441.333333  0.631579  \n",
            "...    ...  ...   ...          ...       ...  \n",
            "35906   77   86  #_21  1529.333333  1.029703  \n",
            "35908   78   88  #_21  1529.666667  1.019608  \n",
            "35911   79   87  #_21  1530.333333  1.148515  \n",
            "35913   78   87  #_21  1530.666667  1.108911  \n",
            "35915   77   86  #_21  1531.000000  1.009901  \n",
            "\n",
            "[376 rows x 15 columns]\n",
            "      si1m   CO   CI  SV   SVI  SVV     SVR    SVRI   PR  SYS  DIA  MAP    ID  \\\n",
            "0        N  4.0  2.4  43  26.0   10  1673.0  2745.0   93  116   74   91   #_1   \n",
            "1        N  4.0  2.4  43  26.0   10  1683.0  2760.0   92  118   74   91   #_1   \n",
            "2        N  3.6  2.2  39  24.0   17  1978.0  3245.0   92  121   80   97   #_1   \n",
            "3        N  3.6  2.2  41  25.0   17  1868.0  3065.0   88  118   76   93   #_1   \n",
            "4        N  4.2  2.6  42  26.0   10  1335.0  2190.0  100  100   66   78   #_1   \n",
            "...    ...  ...  ...  ..   ...  ...     ...     ...  ...  ...  ...  ...   ...   \n",
            "39408    Y  4.8  2.7  48  26.0   24   768.0  1390.0  101   66   48   54  #_28   \n",
            "39409    Y  4.3  2.4  42  23.0   24   750.0  1355.0  104   58   44   49  #_28   \n",
            "39410    Y  4.7  2.6  46  25.0   21   785.0  1420.0  102   65   48   54  #_28   \n",
            "39411    Y  4.9  2.7  48  26.0   22   823.0  1490.0  103   70   52   59  #_28   \n",
            "39412    Y  5.4  3.0  52  29.0   22   805.0  1455.0  104   76   56   63  #_28   \n",
            "\n",
            "              time    PR/SYS  \n",
            "0       120.000000  0.801724  \n",
            "1       120.333333  0.779661  \n",
            "2       120.666667  0.760331  \n",
            "3       121.000000  0.745763  \n",
            "4       121.333333  1.000000  \n",
            "...            ...       ...  \n",
            "39408  2192.333333  1.530303  \n",
            "39409  2192.666667  1.793103  \n",
            "39410  2193.000000  1.569231  \n",
            "39411  2193.333333  1.471429  \n",
            "39412  2193.666667  1.368421  \n",
            "\n",
            "[39037 rows x 15 columns]\n"
          ]
        }
      ],
      "source": [
        "# Remove the 'ID' column and the 'si1m' column from your DataFrame\n",
        "columns_to_check = df.drop(columns=['ID', 'si1m', ])\n",
        "\n",
        "# Use the duplicated method to find duplicate rows\n",
        "duplicate_rows = df[df.duplicated(subset=columns_to_check, keep=False)]\n",
        "\n",
        "# Print the content of duplicate rows\n",
        "print(\"Duplicate rows:\")\n",
        "print(duplicate_rows)\n",
        "# 要排除的列名\n",
        "columns_to_exclude = ['ID', 'si1m']\n",
        "\n",
        "# 选择除了要排除的列以外的其他列\n",
        "columns_to_check = df.columns[~df.columns.isin(columns_to_exclude)]\n",
        "\n",
        "# 使用 selected_columns 作为子集来检查重复行，保留第一个重复行\n",
        "duplicate_rows_df = df[df.duplicated(subset=columns_to_check, keep='first')]\n",
        "\n",
        "# 打印重复行的数量\n",
        "print(\"重复行的数量：\", duplicate_rows_df.shape[0])\n",
        "\n",
        "# 打印重复行的内容\n",
        "print(\"重复行：\")\n",
        "print(duplicate_rows_df)\n",
        "# 重置索引\n",
        "df.reset_index(drop=True, inplace=True)\n",
        "\n",
        "# 在原始数据框 df 中删除重复行\n",
        "df = df.drop(duplicate_rows_df.index)\n",
        "\n",
        "# 现在 df 中已经不包含重复行\n",
        "print(df)"
      ]
    },
    {
      "cell_type": "code",
      "execution_count": 5,
      "metadata": {},
      "outputs": [
        {
          "data": {
            "text/html": [
              "<div>\n",
              "<style scoped>\n",
              "    .dataframe tbody tr th:only-of-type {\n",
              "        vertical-align: middle;\n",
              "    }\n",
              "\n",
              "    .dataframe tbody tr th {\n",
              "        vertical-align: top;\n",
              "    }\n",
              "\n",
              "    .dataframe thead th {\n",
              "        text-align: right;\n",
              "    }\n",
              "</style>\n",
              "<table border=\"1\" class=\"dataframe\">\n",
              "  <thead>\n",
              "    <tr style=\"text-align: right;\">\n",
              "      <th></th>\n",
              "      <th>si1m</th>\n",
              "      <th>CO</th>\n",
              "      <th>CI</th>\n",
              "      <th>SV</th>\n",
              "      <th>SVI</th>\n",
              "      <th>SVV</th>\n",
              "      <th>SVR</th>\n",
              "      <th>SVRI</th>\n",
              "      <th>PR</th>\n",
              "      <th>SYS</th>\n",
              "      <th>DIA</th>\n",
              "      <th>MAP</th>\n",
              "      <th>ID</th>\n",
              "      <th>time</th>\n",
              "      <th>PR/SYS</th>\n",
              "    </tr>\n",
              "  </thead>\n",
              "  <tbody>\n",
              "    <tr>\n",
              "      <th>0</th>\n",
              "      <td>N</td>\n",
              "      <td>4.0</td>\n",
              "      <td>2.4</td>\n",
              "      <td>43</td>\n",
              "      <td>26.0</td>\n",
              "      <td>10</td>\n",
              "      <td>1673.0</td>\n",
              "      <td>2745.0</td>\n",
              "      <td>93</td>\n",
              "      <td>116</td>\n",
              "      <td>74</td>\n",
              "      <td>91</td>\n",
              "      <td>#_1</td>\n",
              "      <td>120.00000</td>\n",
              "      <td>0.80172</td>\n",
              "    </tr>\n",
              "    <tr>\n",
              "      <th>1</th>\n",
              "      <td>N</td>\n",
              "      <td>4.0</td>\n",
              "      <td>2.4</td>\n",
              "      <td>43</td>\n",
              "      <td>26.0</td>\n",
              "      <td>10</td>\n",
              "      <td>1683.0</td>\n",
              "      <td>2760.0</td>\n",
              "      <td>92</td>\n",
              "      <td>118</td>\n",
              "      <td>74</td>\n",
              "      <td>91</td>\n",
              "      <td>#_1</td>\n",
              "      <td>120.33333</td>\n",
              "      <td>0.77966</td>\n",
              "    </tr>\n",
              "    <tr>\n",
              "      <th>2</th>\n",
              "      <td>N</td>\n",
              "      <td>3.6</td>\n",
              "      <td>2.2</td>\n",
              "      <td>39</td>\n",
              "      <td>24.0</td>\n",
              "      <td>17</td>\n",
              "      <td>1978.0</td>\n",
              "      <td>3245.0</td>\n",
              "      <td>92</td>\n",
              "      <td>121</td>\n",
              "      <td>80</td>\n",
              "      <td>97</td>\n",
              "      <td>#_1</td>\n",
              "      <td>120.66667</td>\n",
              "      <td>0.76033</td>\n",
              "    </tr>\n",
              "    <tr>\n",
              "      <th>3</th>\n",
              "      <td>N</td>\n",
              "      <td>3.6</td>\n",
              "      <td>2.2</td>\n",
              "      <td>41</td>\n",
              "      <td>25.0</td>\n",
              "      <td>17</td>\n",
              "      <td>1868.0</td>\n",
              "      <td>3065.0</td>\n",
              "      <td>88</td>\n",
              "      <td>118</td>\n",
              "      <td>76</td>\n",
              "      <td>93</td>\n",
              "      <td>#_1</td>\n",
              "      <td>121.00000</td>\n",
              "      <td>0.74576</td>\n",
              "    </tr>\n",
              "    <tr>\n",
              "      <th>4</th>\n",
              "      <td>N</td>\n",
              "      <td>4.2</td>\n",
              "      <td>2.6</td>\n",
              "      <td>42</td>\n",
              "      <td>26.0</td>\n",
              "      <td>10</td>\n",
              "      <td>1335.0</td>\n",
              "      <td>2190.0</td>\n",
              "      <td>100</td>\n",
              "      <td>100</td>\n",
              "      <td>66</td>\n",
              "      <td>78</td>\n",
              "      <td>#_1</td>\n",
              "      <td>121.33333</td>\n",
              "      <td>1.00000</td>\n",
              "    </tr>\n",
              "  </tbody>\n",
              "</table>\n",
              "</div>"
            ],
            "text/plain": [
              "  si1m   CO   CI  SV   SVI  SVV     SVR    SVRI   PR  SYS  DIA  MAP   ID  \\\n",
              "0    N  4.0  2.4  43  26.0   10  1673.0  2745.0   93  116   74   91  #_1   \n",
              "1    N  4.0  2.4  43  26.0   10  1683.0  2760.0   92  118   74   91  #_1   \n",
              "2    N  3.6  2.2  39  24.0   17  1978.0  3245.0   92  121   80   97  #_1   \n",
              "3    N  3.6  2.2  41  25.0   17  1868.0  3065.0   88  118   76   93  #_1   \n",
              "4    N  4.2  2.6  42  26.0   10  1335.0  2190.0  100  100   66   78  #_1   \n",
              "\n",
              "        time   PR/SYS  \n",
              "0  120.00000  0.80172  \n",
              "1  120.33333  0.77966  \n",
              "2  120.66667  0.76033  \n",
              "3  121.00000  0.74576  \n",
              "4  121.33333  1.00000  "
            ]
          },
          "execution_count": 5,
          "metadata": {},
          "output_type": "execute_result"
        }
      ],
      "source": [
        "# 四舍五入 df 中的所有数值列到小数点后第五位\n",
        "rounded_df = df.round(5)\n",
        "\n",
        "rounded_df.head()"
      ]
    },
    {
      "cell_type": "markdown",
      "metadata": {},
      "source": [
        "相關係數分析"
      ]
    },
    {
      "cell_type": "code",
      "execution_count": 6,
      "metadata": {},
      "outputs": [
        {
          "name": "stdout",
          "output_type": "stream",
          "text": [
            "si1m      1.000000\n",
            "CO        0.033251\n",
            "CI        0.034217\n",
            "SV       -0.297894\n",
            "SVI      -0.336060\n",
            "SVV       0.090539\n",
            "SVR      -0.122073\n",
            "SVRI     -0.053453\n",
            "PR        0.551291\n",
            "SYS      -0.400070\n",
            "DIA      -0.045034\n",
            "MAP      -0.254025\n",
            "time     -0.052093\n",
            "PR/SYS    0.648060\n",
            "Name: si1m, dtype: float64\n"
          ]
        }
      ],
      "source": [
        "# 将 'si1m' 列中的 'Y' 转换为 1，'N' 转换为 0\n",
        "rounded_df['si1m'] = rounded_df['si1m'].apply(lambda x: 1 if x == 'Y' else 0)\n",
        "\n",
        "# 计算除 'ID' 列外的所有列的 Pearson 相关系数\n",
        "correlation_matrix = rounded_df.drop('ID', axis=1).corr()\n",
        "\n",
        "# 打印与 'si1m' 相关的相关系数\n",
        "print(correlation_matrix['si1m'])\n"
      ]
    },
    {
      "cell_type": "code",
      "execution_count": 7,
      "metadata": {},
      "outputs": [
        {
          "data": {
            "text/plain": [
              "(2.76786, 0.10563)"
            ]
          },
          "execution_count": 7,
          "metadata": {},
          "output_type": "execute_result"
        }
      ],
      "source": [
        "# 查看 'PR/SYS' 列的最大值和最小值\n",
        "pr_sys_max = rounded_df['PR/SYS'].max()\n",
        "pr_sys_min = rounded_df['PR/SYS'].min()\n",
        "\n",
        "pr_sys_max, pr_sys_min\n"
      ]
    },
    {
      "cell_type": "code",
      "execution_count": 8,
      "metadata": {},
      "outputs": [
        {
          "name": "stdout",
          "output_type": "stream",
          "text": [
            "si1m\n",
            "0    30482\n",
            "1     8555\n",
            "Name: count, dtype: int64\n"
          ]
        }
      ],
      "source": [
        "# 查看 si1m 變相的數量\n",
        "si1m_counts = rounded_df[\"si1m\"].value_counts()\n",
        "\n",
        "# 顯示 0 和 1 的數量\n",
        "print(si1m_counts)"
      ]
    },
    {
      "cell_type": "code",
      "execution_count": 9,
      "metadata": {},
      "outputs": [],
      "source": [
        " # 進行特徵選取\n",
        "selected_features_df = rounded_df[['si1m', 'CO', 'CI' ,'SV', 'SVI', 'SVV', 'SVR', 'SVRI','PR', 'SYS', 'DIA', 'MAP',  'PR/SYS',  'time']]"
      ]
    },
    {
      "cell_type": "markdown",
      "metadata": {},
      "source": [
        "lstm模型預處理"
      ]
    },
    {
      "cell_type": "code",
      "execution_count": 10,
      "metadata": {},
      "outputs": [],
      "source": [
        "class LossLoggingCallback(Callback):\n",
        "    def __init__(self):\n",
        "        super().__init__()\n",
        "        self.val_losses = []  # To store validation losses\n",
        "        self.train_losses = []  # To store training losses\n",
        "\n",
        "    def on_validation_epoch_end(self, trainer, pl_module):\n",
        "        val_loss = trainer.callback_metrics[\"val_loss\"].item()\n",
        "        self.val_losses.append(val_loss)\n",
        "        print(f\"Epoch {trainer.current_epoch}: val_loss={val_loss}\")\n",
        "\n",
        "    def on_train_epoch_end(self, trainer, pl_module, unused=None):  # unused parameter for compatibility\n",
        "        # Assuming you have a metric named \"train_loss\" logged\n",
        "        if \"train_loss\" in trainer.callback_metrics:\n",
        "            train_loss = trainer.callback_metrics[\"train_loss\"].item()\n",
        "            self.train_losses.append(train_loss)\n",
        "            print(f\"Epoch {trainer.current_epoch}: train_loss={train_loss}\")"
      ]
    },
    {
      "cell_type": "code",
      "execution_count": 11,
      "metadata": {},
      "outputs": [
        {
          "name": "stdout",
          "output_type": "stream",
          "text": [
            "训练集大小：27327\n",
            "验证集大小：5855\n",
            "测试集大小：5855\n"
          ]
        }
      ],
      "source": [
        "# 参数化测试集和验证集占总数据的比例\n",
        "test_ratio = 0.15\n",
        "val_ratio = 0.15  # 假设验证集从原始训练数据中分割出的比例\n",
        "\n",
        "# 计算测试集和验证集的大小\n",
        "total_size = len(selected_features_df)\n",
        "test_size = int(total_size * test_ratio)  # 计算测试集大小\n",
        "val_size = int(total_size * val_ratio)  # 直接根据总数据量计算验证集大小\n",
        "\n",
        "# 分割索引\n",
        "test_start = total_size - test_size\n",
        "val_start = test_start - val_size  # 从测试集前开始分割出验证集\n",
        "\n",
        "# 分割DataFrame为训练集、验证集和测试集\n",
        "train_df = selected_features_df.iloc[:val_start]\n",
        "val_df = selected_features_df.iloc[val_start:test_start]\n",
        "test_df = selected_features_df.iloc[test_start:]\n",
        "\n",
        "# 检查分割结果\n",
        "print(f\"训练集大小：{len(train_df)}\")\n",
        "print(f\"验证集大小：{len(val_df)}\")\n",
        "print(f\"测试集大小：{len(test_df)}\")\n"
      ]
    },
    {
      "cell_type": "code",
      "execution_count": 12,
      "metadata": {},
      "outputs": [],
      "source": [
        "# si1m 是目标变量的列名\n",
        "# 提取特征和目标变量\n",
        "X_train = train_df.drop('si1m', axis=1)\n",
        "y_train = train_df['si1m']\n",
        "\n",
        "X_val = val_df.drop('si1m', axis=1)\n",
        "y_val = val_df['si1m']\n",
        "\n",
        "X_test = test_df.drop('si1m', axis=1)\n",
        "y_test = test_df['si1m']\n",
        "\n"
      ]
    },
    {
      "cell_type": "code",
      "execution_count": 13,
      "metadata": {},
      "outputs": [],
      "source": [
        "from sklearn.preprocessing import MinMaxScaler\n",
        "\n",
        "# 使用MinMaxScaler进行缩放\n",
        "scale = MinMaxScaler()\n",
        "columns = train_df.columns\n",
        "\n",
        "df_train_scaled = train_df.copy()\n",
        "df_test_scaled = test_df.copy()\n",
        "df_val_scaled = val_df.copy()\n",
        "# 對訓練集的數值列进行擬合和转换，用相同的scaler避免数据泄露\n",
        "df_train_scaled[columns] = scale.fit_transform(train_df[columns])\n",
        "# 使用相同的scaler参数来转换测试集和驗證集的数值列\n",
        "df_test_scaled[columns] = scale.transform(test_df[columns])\n",
        "df_val_scaled[columns] = scale.transform(val_df[columns])\n",
        "\n",
        "\n"
      ]
    },
    {
      "cell_type": "code",
      "execution_count": 14,
      "metadata": {},
      "outputs": [
        {
          "name": "stdout",
          "output_type": "stream",
          "text": [
            "Selected features: Index(['SV', 'SVI', 'PR', 'SYS', 'DIA', 'MAP', 'PR/SYS'], dtype='object')\n"
          ]
        }
      ],
      "source": [
        "from sklearn.feature_selection import SelectKBest, f_classif\n",
        "\n",
        "# 特征选择\n",
        "X_train_df = df_train_scaled.drop('si1m', axis=1)  # 使用缩放后的数据\n",
        "y_train = df_train_scaled['si1m'].values\n",
        "\n",
        "selector = SelectKBest(f_classif, k=7)  # 选择最重要的7个特征\n",
        "selector.fit(X_train_df, y_train)\n",
        "\n",
        "selected_features = X_train_df.columns[selector.get_support()]  # 获取被选择的特征名称\n",
        "X_train_selected = selector.transform(X_train_df)  # 转换X_train\n",
        "\n",
        "# 列印被选中的特征名称\n",
        "print(\"Selected features:\", selected_features)\n",
        "\n",
        "# 对验证集和测试集应用相同的特征选择\n",
        "X_val_df = df_val_scaled.drop('si1m', axis=1)\n",
        "y_val = df_val_scaled['si1m'].values\n",
        "X_test_df = df_test_scaled.drop('si1m', axis=1)\n",
        "y_test = df_test_scaled['si1m'].values\n",
        "\n",
        "\n",
        "X_val_selected = selector.transform(X_val_df)\n",
        "X_test_selected = selector.transform(X_test_df)\n",
        "\n",
        "# 将DataFrame转换为NumPy数组，以便进行后续的模型训练和评估\n",
        "X_train = X_train_selected\n",
        "X_val = X_val_selected\n",
        "X_test = X_test_selected\n"
      ]
    },
    {
      "cell_type": "code",
      "execution_count": 15,
      "metadata": {},
      "outputs": [],
      "source": [
        "# 初始化空列表来构建时间序列窗口\n",
        "X_train_ts = []\n",
        "y_train_ts = []\n",
        "\n",
        "# 定义历史数据长度和预测长度\n",
        "n_future = 1\n",
        "n_past = 30\n",
        "\n",
        "# 注意：这里的X_train应该是已经过特征选择和转换后的数据，假设其已经是np.array格式\n",
        "for i in range(n_past, len(X_train) - n_future + 1):\n",
        "    # 添加从i-n_past到i的数据，这里假设X_train是特征选择和转换后的二维数组\n",
        "    X_train_ts.append(X_train[i - n_past:i, :])  # 获取所有特征\n",
        "    y_train_ts.append(y_train[i + n_future - 1])  # 获取未来第一个点作为输出\n",
        "\n",
        "# 将列表转换为NumPy数组\n",
        "X_train_ts = np.array(X_train_ts)\n",
        "y_train_ts = np.array(y_train_ts)\n"
      ]
    },
    {
      "cell_type": "code",
      "execution_count": 16,
      "metadata": {},
      "outputs": [
        {
          "name": "stdout",
          "output_type": "stream",
          "text": [
            "(27297, 30, 7)\n",
            "(27297,)\n"
          ]
        }
      ],
      "source": [
        "print(X_train_ts.shape)\n",
        "print(y_train_ts.shape)\n"
      ]
    },
    {
      "cell_type": "code",
      "execution_count": 17,
      "metadata": {},
      "outputs": [],
      "source": [
        "X_val_ts = []\n",
        "y_val_ts = []\n",
        "\n",
        "for i in range(n_past, len(X_val) - n_future + 1):\n",
        "    X_val_ts.append(X_val[i - n_past:i, :])  \n",
        "    y_val_ts.append(y_val[i + n_future - 1]) \n",
        "    \n",
        "# 将列表转换为NumPy数组\n",
        "X_val_ts = np.array(X_val_ts)\n",
        "y_val_ts= np.array(y_val_ts)\n"
      ]
    },
    {
      "cell_type": "code",
      "execution_count": 18,
      "metadata": {},
      "outputs": [],
      "source": [
        "X_test_ts = []\n",
        "y_test_ts = []\n",
        "for i in range(n_past, len(X_test) - n_future + 1):\n",
        "    X_test_ts.append(X_test[i - n_past:i, :])  \n",
        "    y_test_ts.append(y_test[i + n_future - 1]) \n",
        "    \n",
        "# 将列表转换为NumPy数组\n",
        "X_test_ts = np.array(X_test_ts)\n",
        "y_test_ts= np.array(y_test_ts)"
      ]
    },
    {
      "cell_type": "code",
      "execution_count": 19,
      "metadata": {},
      "outputs": [
        {
          "name": "stdout",
          "output_type": "stream",
          "text": [
            "---------------------------train data---------------------------\n",
            "(27297, 30, 7)\n",
            "(27297,)\n",
            "------------------------validation data-------------------------\n",
            "(5825, 30, 7)\n",
            "(5825,)\n",
            "---------------------------test data----------------------------\n",
            "(5825, 30, 7)\n",
            "(5825,)\n"
          ]
        }
      ],
      "source": [
        "print('train data'.center(64, '-'))\n",
        "print(X_train_ts.shape)\n",
        "print(y_train_ts.shape)\n",
        "print('validation data'.center(64, '-'))\n",
        "print(X_val_ts.shape)\n",
        "print(y_val_ts.shape)\n",
        "print('test data'.center(64, '-'))\n",
        "print(X_test_ts.shape)\n",
        "print(y_test_ts.shape)"
      ]
    },
    {
      "cell_type": "markdown",
      "metadata": {},
      "source": [
        "lstm模型建立\n"
      ]
    },
    {
      "cell_type": "code",
      "execution_count": 20,
      "metadata": {},
      "outputs": [
        {
          "name": "stderr",
          "output_type": "stream",
          "text": [
            "/Users/apple/Library/Python/3.9/lib/python/site-packages/urllib3/__init__.py:34: NotOpenSSLWarning: urllib3 v2 only supports OpenSSL 1.1.1+, currently the 'ssl' module is compiled with 'LibreSSL 2.8.3'. See: https://github.com/urllib3/urllib3/issues/3020\n",
            "  warnings.warn(\n"
          ]
        }
      ],
      "source": [
        "from tensorflow.keras import Model, Sequential, Input, backend\n",
        "from tensorflow.keras.layers import LSTM, Dense, Dropout\n",
        "from tensorflow.keras.callbacks import EarlyStopping\n",
        "def multiClassModel(n_features, n_classes=2):\n",
        "    model = Sequential()\n",
        "    model.add(Input(shape=(None, n_features)))\n",
        "    model.add(LSTM(units=30))\n",
        "    model.add(Dropout(0.2))\n",
        "    model.add(Dense(n_classes, activation=\"softmax\", name=\"softmax\"))\n",
        "    model.compile(loss=\"sparse_categorical_crossentropy\", optimizer='Adam')\n",
        "    model.summary()\n",
        "    return model"
      ]
    },
    {
      "cell_type": "code",
      "execution_count": 21,
      "metadata": {
        "id": "s0gR7SLTOrO1"
      },
      "outputs": [
        {
          "data": {
            "text/html": [
              "<pre style=\"white-space:pre;overflow-x:auto;line-height:normal;font-family:Menlo,'DejaVu Sans Mono',consolas,'Courier New',monospace\"><span style=\"font-weight: bold\">Model: \"sequential\"</span>\n",
              "</pre>\n"
            ],
            "text/plain": [
              "\u001b[1mModel: \"sequential\"\u001b[0m\n"
            ]
          },
          "metadata": {},
          "output_type": "display_data"
        },
        {
          "data": {
            "text/html": [
              "<pre style=\"white-space:pre;overflow-x:auto;line-height:normal;font-family:Menlo,'DejaVu Sans Mono',consolas,'Courier New',monospace\">┏━━━━━━━━━━━━━━━━━━━━━━━━━━━━━━━━━┳━━━━━━━━━━━━━━━━━━━━━━━━┳━━━━━━━━━━━━━━━┓\n",
              "┃<span style=\"font-weight: bold\"> Layer (type)                    </span>┃<span style=\"font-weight: bold\"> Output Shape           </span>┃<span style=\"font-weight: bold\">       Param # </span>┃\n",
              "┡━━━━━━━━━━━━━━━━━━━━━━━━━━━━━━━━━╇━━━━━━━━━━━━━━━━━━━━━━━━╇━━━━━━━━━━━━━━━┩\n",
              "│ lstm (<span style=\"color: #0087ff; text-decoration-color: #0087ff\">LSTM</span>)                     │ (<span style=\"color: #00d7ff; text-decoration-color: #00d7ff\">None</span>, <span style=\"color: #00af00; text-decoration-color: #00af00\">30</span>)             │         <span style=\"color: #00af00; text-decoration-color: #00af00\">4,560</span> │\n",
              "├─────────────────────────────────┼────────────────────────┼───────────────┤\n",
              "│ dropout (<span style=\"color: #0087ff; text-decoration-color: #0087ff\">Dropout</span>)               │ (<span style=\"color: #00d7ff; text-decoration-color: #00d7ff\">None</span>, <span style=\"color: #00af00; text-decoration-color: #00af00\">30</span>)             │             <span style=\"color: #00af00; text-decoration-color: #00af00\">0</span> │\n",
              "├─────────────────────────────────┼────────────────────────┼───────────────┤\n",
              "│ softmax (<span style=\"color: #0087ff; text-decoration-color: #0087ff\">Dense</span>)                 │ (<span style=\"color: #00d7ff; text-decoration-color: #00d7ff\">None</span>, <span style=\"color: #00af00; text-decoration-color: #00af00\">2</span>)              │            <span style=\"color: #00af00; text-decoration-color: #00af00\">62</span> │\n",
              "└─────────────────────────────────┴────────────────────────┴───────────────┘\n",
              "</pre>\n"
            ],
            "text/plain": [
              "┏━━━━━━━━━━━━━━━━━━━━━━━━━━━━━━━━━┳━━━━━━━━━━━━━━━━━━━━━━━━┳━━━━━━━━━━━━━━━┓\n",
              "┃\u001b[1m \u001b[0m\u001b[1mLayer (type)                   \u001b[0m\u001b[1m \u001b[0m┃\u001b[1m \u001b[0m\u001b[1mOutput Shape          \u001b[0m\u001b[1m \u001b[0m┃\u001b[1m \u001b[0m\u001b[1m      Param #\u001b[0m\u001b[1m \u001b[0m┃\n",
              "┡━━━━━━━━━━━━━━━━━━━━━━━━━━━━━━━━━╇━━━━━━━━━━━━━━━━━━━━━━━━╇━━━━━━━━━━━━━━━┩\n",
              "│ lstm (\u001b[38;5;33mLSTM\u001b[0m)                     │ (\u001b[38;5;45mNone\u001b[0m, \u001b[38;5;34m30\u001b[0m)             │         \u001b[38;5;34m4,560\u001b[0m │\n",
              "├─────────────────────────────────┼────────────────────────┼───────────────┤\n",
              "│ dropout (\u001b[38;5;33mDropout\u001b[0m)               │ (\u001b[38;5;45mNone\u001b[0m, \u001b[38;5;34m30\u001b[0m)             │             \u001b[38;5;34m0\u001b[0m │\n",
              "├─────────────────────────────────┼────────────────────────┼───────────────┤\n",
              "│ softmax (\u001b[38;5;33mDense\u001b[0m)                 │ (\u001b[38;5;45mNone\u001b[0m, \u001b[38;5;34m2\u001b[0m)              │            \u001b[38;5;34m62\u001b[0m │\n",
              "└─────────────────────────────────┴────────────────────────┴───────────────┘\n"
            ]
          },
          "metadata": {},
          "output_type": "display_data"
        },
        {
          "data": {
            "text/html": [
              "<pre style=\"white-space:pre;overflow-x:auto;line-height:normal;font-family:Menlo,'DejaVu Sans Mono',consolas,'Courier New',monospace\"><span style=\"font-weight: bold\"> Total params: </span><span style=\"color: #00af00; text-decoration-color: #00af00\">4,622</span> (18.05 KB)\n",
              "</pre>\n"
            ],
            "text/plain": [
              "\u001b[1m Total params: \u001b[0m\u001b[38;5;34m4,622\u001b[0m (18.05 KB)\n"
            ]
          },
          "metadata": {},
          "output_type": "display_data"
        },
        {
          "data": {
            "text/html": [
              "<pre style=\"white-space:pre;overflow-x:auto;line-height:normal;font-family:Menlo,'DejaVu Sans Mono',consolas,'Courier New',monospace\"><span style=\"font-weight: bold\"> Trainable params: </span><span style=\"color: #00af00; text-decoration-color: #00af00\">4,622</span> (18.05 KB)\n",
              "</pre>\n"
            ],
            "text/plain": [
              "\u001b[1m Trainable params: \u001b[0m\u001b[38;5;34m4,622\u001b[0m (18.05 KB)\n"
            ]
          },
          "metadata": {},
          "output_type": "display_data"
        },
        {
          "data": {
            "text/html": [
              "<pre style=\"white-space:pre;overflow-x:auto;line-height:normal;font-family:Menlo,'DejaVu Sans Mono',consolas,'Courier New',monospace\"><span style=\"font-weight: bold\"> Non-trainable params: </span><span style=\"color: #00af00; text-decoration-color: #00af00\">0</span> (0.00 B)\n",
              "</pre>\n"
            ],
            "text/plain": [
              "\u001b[1m Non-trainable params: \u001b[0m\u001b[38;5;34m0\u001b[0m (0.00 B)\n"
            ]
          },
          "metadata": {},
          "output_type": "display_data"
        },
        {
          "name": "stdout",
          "output_type": "stream",
          "text": [
            "Epoch 1/30\n",
            "\u001b[1m427/427\u001b[0m \u001b[32m━━━━━━━━━━━━━━━━━━━━\u001b[0m\u001b[37m\u001b[0m \u001b[1m2s\u001b[0m 4ms/step - loss: 0.3600 - val_loss: 0.0564\n",
            "Epoch 2/30\n",
            "\u001b[1m427/427\u001b[0m \u001b[32m━━━━━━━━━━━━━━━━━━━━\u001b[0m\u001b[37m\u001b[0m \u001b[1m2s\u001b[0m 4ms/step - loss: 0.2673 - val_loss: 0.0600\n",
            "Epoch 3/30\n",
            "\u001b[1m427/427\u001b[0m \u001b[32m━━━━━━━━━━━━━━━━━━━━\u001b[0m\u001b[37m\u001b[0m \u001b[1m2s\u001b[0m 4ms/step - loss: 0.2695 - val_loss: 0.0509\n",
            "Epoch 4/30\n",
            "\u001b[1m427/427\u001b[0m \u001b[32m━━━━━━━━━━━━━━━━━━━━\u001b[0m\u001b[37m\u001b[0m \u001b[1m2s\u001b[0m 4ms/step - loss: 0.2719 - val_loss: 0.0566\n",
            "Epoch 5/30\n",
            "\u001b[1m427/427\u001b[0m \u001b[32m━━━━━━━━━━━━━━━━━━━━\u001b[0m\u001b[37m\u001b[0m \u001b[1m2s\u001b[0m 4ms/step - loss: 0.2626 - val_loss: 0.0565\n",
            "Epoch 6/30\n",
            "\u001b[1m427/427\u001b[0m \u001b[32m━━━━━━━━━━━━━━━━━━━━\u001b[0m\u001b[37m\u001b[0m \u001b[1m2s\u001b[0m 4ms/step - loss: 0.2589 - val_loss: 0.0511\n",
            "Epoch 7/30\n",
            "\u001b[1m427/427\u001b[0m \u001b[32m━━━━━━━━━━━━━━━━━━━━\u001b[0m\u001b[37m\u001b[0m \u001b[1m2s\u001b[0m 4ms/step - loss: 0.2485 - val_loss: 0.0582\n",
            "Epoch 8/30\n",
            "\u001b[1m427/427\u001b[0m \u001b[32m━━━━━━━━━━━━━━━━━━━━\u001b[0m\u001b[37m\u001b[0m \u001b[1m2s\u001b[0m 4ms/step - loss: 0.2552 - val_loss: 0.0532\n",
            "Epoch 9/30\n",
            "\u001b[1m427/427\u001b[0m \u001b[32m━━━━━━━━━━━━━━━━━━━━\u001b[0m\u001b[37m\u001b[0m \u001b[1m2s\u001b[0m 4ms/step - loss: 0.2520 - val_loss: 0.0587\n",
            "Epoch 10/30\n",
            "\u001b[1m427/427\u001b[0m \u001b[32m━━━━━━━━━━━━━━━━━━━━\u001b[0m\u001b[37m\u001b[0m \u001b[1m2s\u001b[0m 4ms/step - loss: 0.2480 - val_loss: 0.0550\n",
            "Epoch 11/30\n",
            "\u001b[1m427/427\u001b[0m \u001b[32m━━━━━━━━━━━━━━━━━━━━\u001b[0m\u001b[37m\u001b[0m \u001b[1m2s\u001b[0m 4ms/step - loss: 0.2456 - val_loss: 0.0550\n",
            "Epoch 12/30\n",
            "\u001b[1m427/427\u001b[0m \u001b[32m━━━━━━━━━━━━━━━━━━━━\u001b[0m\u001b[37m\u001b[0m \u001b[1m2s\u001b[0m 4ms/step - loss: 0.2457 - val_loss: 0.0533\n",
            "Epoch 13/30\n",
            "\u001b[1m427/427\u001b[0m \u001b[32m━━━━━━━━━━━━━━━━━━━━\u001b[0m\u001b[37m\u001b[0m \u001b[1m2s\u001b[0m 4ms/step - loss: 0.2427 - val_loss: 0.0564\n",
            "Epoch 14/30\n",
            "\u001b[1m427/427\u001b[0m \u001b[32m━━━━━━━━━━━━━━━━━━━━\u001b[0m\u001b[37m\u001b[0m \u001b[1m2s\u001b[0m 4ms/step - loss: 0.2427 - val_loss: 0.0552\n",
            "Epoch 15/30\n",
            "\u001b[1m427/427\u001b[0m \u001b[32m━━━━━━━━━━━━━━━━━━━━\u001b[0m\u001b[37m\u001b[0m \u001b[1m2s\u001b[0m 4ms/step - loss: 0.2377 - val_loss: 0.0547\n",
            "Epoch 16/30\n",
            "\u001b[1m427/427\u001b[0m \u001b[32m━━━━━━━━━━━━━━━━━━━━\u001b[0m\u001b[37m\u001b[0m \u001b[1m2s\u001b[0m 4ms/step - loss: 0.2297 - val_loss: 0.0537\n",
            "Epoch 17/30\n",
            "\u001b[1m427/427\u001b[0m \u001b[32m━━━━━━━━━━━━━━━━━━━━\u001b[0m\u001b[37m\u001b[0m \u001b[1m2s\u001b[0m 4ms/step - loss: 0.2197 - val_loss: 0.0605\n",
            "Epoch 18/30\n",
            "\u001b[1m427/427\u001b[0m \u001b[32m━━━━━━━━━━━━━━━━━━━━\u001b[0m\u001b[37m\u001b[0m \u001b[1m2s\u001b[0m 4ms/step - loss: 0.2256 - val_loss: 0.0599\n",
            "Epoch 19/30\n",
            "\u001b[1m427/427\u001b[0m \u001b[32m━━━━━━━━━━━━━━━━━━━━\u001b[0m\u001b[37m\u001b[0m \u001b[1m2s\u001b[0m 4ms/step - loss: 0.2272 - val_loss: 0.0540\n",
            "Epoch 20/30\n",
            "\u001b[1m427/427\u001b[0m \u001b[32m━━━━━━━━━━━━━━━━━━━━\u001b[0m\u001b[37m\u001b[0m \u001b[1m2s\u001b[0m 4ms/step - loss: 0.2243 - val_loss: 0.0582\n",
            "Epoch 21/30\n",
            "\u001b[1m427/427\u001b[0m \u001b[32m━━━━━━━━━━━━━━━━━━━━\u001b[0m\u001b[37m\u001b[0m \u001b[1m2s\u001b[0m 4ms/step - loss: 0.2210 - val_loss: 0.0607\n",
            "Epoch 22/30\n",
            "\u001b[1m427/427\u001b[0m \u001b[32m━━━━━━━━━━━━━━━━━━━━\u001b[0m\u001b[37m\u001b[0m \u001b[1m2s\u001b[0m 4ms/step - loss: 0.2218 - val_loss: 0.0567\n",
            "Epoch 23/30\n",
            "\u001b[1m427/427\u001b[0m \u001b[32m━━━━━━━━━━━━━━━━━━━━\u001b[0m\u001b[37m\u001b[0m \u001b[1m2s\u001b[0m 4ms/step - loss: 0.2219 - val_loss: 0.0544\n"
          ]
        },
        {
          "data": {
            "image/png": "[encoded data removed]",
            "text/plain": [
              "<Figure size 800x600 with 1 Axes>"
            ]
          },
          "metadata": {},
          "output_type": "display_data"
        }
      ],
      "source": [
        "from tensorflow.keras import Model, Sequential, Input, backend\n",
        "from tensorflow.keras.layers import LSTM, Dense, Dropout\n",
        "from tensorflow.keras.callbacks import EarlyStopping\n",
        "import pandas as pd\n",
        "import matplotlib.pyplot as plt\n",
        "\n",
        "# 清理Keras后台会话\n",
        "backend.clear_session()\n",
        "\n",
        "# 假设 X_train_ts 已经被定义\n",
        "n_features = X_train_ts.shape[2]  # 获取特征数\n",
        "\n",
        "# 构建模型的函数\n",
        "def multiClassModel(n_features, n_classes=2):\n",
        "    model = Sequential()\n",
        "    model.add(Input(shape=(None, n_features)))\n",
        "    model.add(LSTM(units=30))\n",
        "    model.add(Dropout(0.2))\n",
        "    model.add(Dense(n_classes, activation=\"softmax\", name=\"softmax\"))\n",
        "    model.compile(loss=\"sparse_categorical_crossentropy\", optimizer='Adam')\n",
        "    model.summary()\n",
        "    return model\n",
        "\n",
        "# 定义早停机制\n",
        "callback = EarlyStopping(patience=20, mode='min', restore_best_weights=True)\n",
        "\n",
        "# 实例化模型\n",
        "model = multiClassModel(n_features, n_classes=2)  # 确保 n_classes 设置正确\n",
        "\n",
        "# 开始训练模型\n",
        "history = model.fit(\n",
        "    X_train_ts, y_train_ts,\n",
        "    epochs=30,\n",
        "    batch_size=64,\n",
        "    validation_data=(X_val_ts, y_val_ts),\n",
        "    callbacks=[callback]\n",
        ")\n",
        "\n",
        "# 可视化训练历史\n",
        "pd.DataFrame(history.history).plot(kind='line', xlabel='epochs', figsize=(8, 6))\n",
        "plt.show()\n"
      ]
    },
    {
      "cell_type": "code",
      "execution_count": 22,
      "metadata": {},
      "outputs": [
        {
          "name": "stdout",
          "output_type": "stream",
          "text": [
            "\u001b[1m854/854\u001b[0m \u001b[32m━━━━━━━━━━━━━━━━━━━━\u001b[0m\u001b[37m\u001b[0m \u001b[1m1s\u001b[0m 1ms/step\n",
            "y_train (Class 0): 23498\n",
            "y_train (Class 1): 3799\n"
          ]
        }
      ],
      "source": [
        "# 预测测试集 X_train_ts 為测试数据\n",
        "y_pred_proba = model.predict(X_train_ts)\n",
        "# 选择概率最高的类别作为预测结果\n",
        "y_pred = np.argmax(y_pred_proba, axis=1)\n",
        "  # 将概率大于0.5的视为类别1，否则为类别0\n",
        "\n",
        "from sklearn.metrics import confusion_matrix\n",
        "import numpy as np\n",
        "\n",
        "# 计算每个类别的数量\n",
        "unique, counts = np.unique(y_pred, return_counts=True)\n",
        "class_counts = dict(zip(unique, counts))\n",
        "\n",
        "# 打印输出\n",
        "print(\"y_train (Class 0):\", class_counts.get(0, 0))  # 获取类别0的数量，如果没有则返回0\n",
        "print(\"y_train (Class 1):\", class_counts.get(1, 0))   # 获取类别1的数量，如果没有则返回0\n",
        "\n"
      ]
    },
    {
      "cell_type": "code",
      "execution_count": 23,
      "metadata": {},
      "outputs": [
        {
          "name": "stdout",
          "output_type": "stream",
          "text": [
            "\u001b[1m183/183\u001b[0m \u001b[32m━━━━━━━━━━━━━━━━━━━━\u001b[0m\u001b[37m\u001b[0m \u001b[1m0s\u001b[0m 965us/step\n",
            "y_val (Class 0): 5825\n",
            "y_val (Class 1): 0\n"
          ]
        }
      ],
      "source": [
        "# 预测测试集，假设 X_val_ts 是您的测试数据\n",
        "y_pred_proba = model.predict(X_val_ts)\n",
        "# 选择概率最高的类别作为预测结果\n",
        "y_pred = np.argmax(y_pred_proba, axis=1)\n",
        "  # 将概率大于0.5的视为类别1，否则为类别0\n",
        "\n",
        "from sklearn.metrics import confusion_matrix\n",
        "import numpy as np\n",
        "\n",
        "# 计算每个类别的数量\n",
        "unique, counts = np.unique(y_pred, return_counts=True)\n",
        "class_counts = dict(zip(unique, counts))\n",
        "\n",
        "# 打印输出\n",
        "print(\"y_val (Class 0):\", class_counts.get(0, 0))  # 获取类别0的数量，如果没有则返回0\n",
        "print(\"y_val (Class 1):\", class_counts.get(1, 0))   # 获取类别1的数量，如果没有则返回0\n",
        "\n"
      ]
    },
    {
      "cell_type": "code",
      "execution_count": 24,
      "metadata": {},
      "outputs": [
        {
          "name": "stdout",
          "output_type": "stream",
          "text": [
            "\u001b[1m183/183\u001b[0m \u001b[32m━━━━━━━━━━━━━━━━━━━━\u001b[0m\u001b[37m\u001b[0m \u001b[1m0s\u001b[0m 987us/step\n",
            "y_test (Class 0): 3783\n",
            "y_test (Class 1): 2042\n"
          ]
        }
      ],
      "source": [
        "# 预测测试集，X_test_ts 是您的测试数据\n",
        "y_pred_proba = model.predict(X_test_ts)\n",
        "# 选择概率最高的类别作为预测结果\n",
        "y_pred = np.argmax(y_pred_proba, axis=1)\n",
        "  # 将概率大于0.5的视为类别1，否则为类别0\n",
        "\n",
        "from sklearn.metrics import confusion_matrix\n",
        "import numpy as np\n",
        "\n",
        "# 计算每个类别的数量\n",
        "unique, counts = np.unique(y_pred, return_counts=True)\n",
        "class_counts = dict(zip(unique, counts))\n",
        "\n",
        "# 打印输出\n",
        "print(\"y_test (Class 0):\", class_counts.get(0, 0))  # 获取类别0的数量，如果没有则返回0\n",
        "print(\"y_test (Class 1):\", class_counts.get(1, 0))   # 获取类别1的数量，如果没有则返回0\n",
        "\n"
      ]
    },
    {
      "cell_type": "code",
      "execution_count": 25,
      "metadata": {},
      "outputs": [
        {
          "name": "stdout",
          "output_type": "stream",
          "text": [
            "\u001b[1m854/854\u001b[0m \u001b[32m━━━━━━━━━━━━━━━━━━━━\u001b[0m\u001b[37m\u001b[0m \u001b[1m1s\u001b[0m 957us/step\n",
            "\u001b[1m183/183\u001b[0m \u001b[32m━━━━━━━━━━━━━━━━━━━━\u001b[0m\u001b[37m\u001b[0m \u001b[1m0s\u001b[0m 974us/step\n",
            "\u001b[1m183/183\u001b[0m \u001b[32m━━━━━━━━━━━━━━━━━━━━\u001b[0m\u001b[37m\u001b[0m \u001b[1m0s\u001b[0m 964us/step\n"
          ]
        }
      ],
      "source": [
        "# predicting on training set\n",
        "y_train_pred_prob = model.predict(X_train_ts)\n",
        "y_test_pred_prob = model.predict(X_test_ts)\n",
        "y_val_pred_prob = model.predict(X_val_ts)\n",
        "y_train_pred = np.argmax(y_train_pred_prob, axis=1)\n",
        "y_test_pred = np.argmax(y_test_pred_prob, axis=1)\n",
        "y_val_pred = np.argmax(y_val_pred_prob, axis=1)"
      ]
    },
    {
      "cell_type": "code",
      "execution_count": 26,
      "metadata": {},
      "outputs": [
        {
          "name": "stdout",
          "output_type": "stream",
          "text": [
            "Training Accuracy: 0.8874601604571931\n",
            "val Accuracy: 0.9902145922746781\n",
            "Testing Accuracy: 0.7551931330472103\n"
          ]
        }
      ],
      "source": [
        "from sklearn.metrics import accuracy_score\n",
        "# 计算训练集和测试集的准确率\n",
        "train_accuracy = accuracy_score(y_train_ts, y_train_pred)\n",
        "test_accuracy = accuracy_score(y_test_ts, y_test_pred)\n",
        "val_accuracy = accuracy_score(y_val_ts, y_val_pred)\n",
        "\n",
        "print(\"Training Accuracy:\", train_accuracy)\n",
        "print(\"val Accuracy:\", val_accuracy)\n",
        "print(\"Testing Accuracy:\", test_accuracy)\n",
        "###32epoch:78% test_accuracy,36epoch:71%test_accuracy,23epoch:75% test_accuracy###\n"
      ]
    }
  ],
  "metadata": {
    "accelerator": "GPU",
    "colab": {
      "gpuType": "T4",
      "provenance": []
    },
    "kernelspec": {
      "display_name": "Python 3",
      "name": "python3"
    },
    "language_info": {
      "codemirror_mode": {
        "name": "ipython",
        "version": 3
      },
      "file_extension": ".py",
      "mimetype": "text/x-python",
      "name": "python",
      "nbconvert_exporter": "python",
      "pygments_lexer": "ipython3",
      "version": "3.9.6"
    }
  },
  "nbformat": 4,
  "nbformat_minor": 0
}
